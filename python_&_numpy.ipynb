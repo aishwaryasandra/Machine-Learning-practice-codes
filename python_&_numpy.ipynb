{
  "nbformat": 4,
  "nbformat_minor": 0,
  "metadata": {
    "colab": {
      "name": "19th March (python & numpy).ipynb",
      "provenance": [],
      "collapsed_sections": []
    },
    "kernelspec": {
      "name": "python3",
      "display_name": "Python 3"
    },
    "language_info": {
      "name": "python"
    }
  },
  "cells": [
    {
      "cell_type": "code",
      "metadata": {
        "id": "sbKHYs93IRMg"
      },
      "source": [
        "# Lambda - Is a short way of creating functions. But it can make only less complicated functions "
      ],
      "execution_count": null,
      "outputs": []
    },
    {
      "cell_type": "code",
      "metadata": {
        "id": "m1lm8hUaLGjR"
      },
      "source": [
        "# Syntax \n",
        "# def function_name(input_1, input_2):\n",
        "#     Logic_of_function\n",
        "#     Logic_of_function\n",
        "#     Logic_of_function\n",
        "#     Logic_of_function\n",
        "#     Logic_of_function\n",
        "#     return output"
      ],
      "execution_count": null,
      "outputs": []
    },
    {
      "cell_type": "code",
      "metadata": {
        "id": "cGm5qSZWJ-Ih"
      },
      "source": [
        "def my_sum(a,b):\n",
        "    return a + b"
      ],
      "execution_count": null,
      "outputs": []
    },
    {
      "cell_type": "code",
      "metadata": {
        "colab": {
          "base_uri": "https://localhost:8080/"
        },
        "id": "PoY3hvuaKDAV",
        "outputId": "8f8150f2-9347-4fdb-936d-f37ae91c9523"
      },
      "source": [
        "my_sum(5, 10)"
      ],
      "execution_count": null,
      "outputs": [
        {
          "output_type": "execute_result",
          "data": {
            "text/plain": [
              "15"
            ]
          },
          "metadata": {
            "tags": []
          },
          "execution_count": 3
        }
      ]
    },
    {
      "cell_type": "code",
      "metadata": {
        "colab": {
          "base_uri": "https://localhost:8080/"
        },
        "id": "AMpbDv5uK4op",
        "outputId": "43a95e5e-291e-42da-e11a-e04f0b3cb4a7"
      },
      "source": [
        "type(my_sum)"
      ],
      "execution_count": null,
      "outputs": [
        {
          "output_type": "execute_result",
          "data": {
            "text/plain": [
              "function"
            ]
          },
          "metadata": {
            "tags": []
          },
          "execution_count": 6
        }
      ]
    },
    {
      "cell_type": "code",
      "metadata": {
        "id": "B0cH_S9PKoBf"
      },
      "source": [
        "# Syntax \n",
        "# lambda input_1, input_2, input_3: return_statement"
      ],
      "execution_count": null,
      "outputs": []
    },
    {
      "cell_type": "code",
      "metadata": {
        "id": "RfVWveWfKFe1"
      },
      "source": [
        "my_l = lambda a,b: a+b"
      ],
      "execution_count": null,
      "outputs": []
    },
    {
      "cell_type": "code",
      "metadata": {
        "colab": {
          "base_uri": "https://localhost:8080/"
        },
        "id": "MGRMITF9KOoi",
        "outputId": "5af440fe-aec4-4209-cc25-c5cade9f7c0a"
      },
      "source": [
        "my_l(5, 10)"
      ],
      "execution_count": null,
      "outputs": [
        {
          "output_type": "execute_result",
          "data": {
            "text/plain": [
              "15"
            ]
          },
          "metadata": {
            "tags": []
          },
          "execution_count": 5
        }
      ]
    },
    {
      "cell_type": "code",
      "metadata": {
        "colab": {
          "base_uri": "https://localhost:8080/"
        },
        "id": "yq91-EJEKQgm",
        "outputId": "73d2eb54-64a3-48a1-fc9c-96792ca2e81e"
      },
      "source": [
        "type(my_l)"
      ],
      "execution_count": null,
      "outputs": [
        {
          "output_type": "execute_result",
          "data": {
            "text/plain": [
              "function"
            ]
          },
          "metadata": {
            "tags": []
          },
          "execution_count": 7
        }
      ]
    },
    {
      "cell_type": "code",
      "metadata": {
        "id": "7ph7DBz_K80x"
      },
      "source": [
        "calculate_discount = lambda old_discount: old_discount + 3"
      ],
      "execution_count": null,
      "outputs": []
    },
    {
      "cell_type": "code",
      "metadata": {
        "colab": {
          "base_uri": "https://localhost:8080/"
        },
        "id": "przgjkPlMmd-",
        "outputId": "ab0d8992-876d-48ff-e854-0b3235b5280c"
      },
      "source": [
        "calculate_discount(2.3)"
      ],
      "execution_count": null,
      "outputs": [
        {
          "output_type": "execute_result",
          "data": {
            "text/plain": [
              "5.3"
            ]
          },
          "metadata": {
            "tags": []
          },
          "execution_count": 9
        }
      ]
    },
    {
      "cell_type": "code",
      "metadata": {
        "id": "JHf_211RMpsS"
      },
      "source": [
        "## List comprehension\n",
        "alist = [1,2,3,4,5]\n",
        "# multiply each element of list by 2 \n",
        "# output - [2,4,6,8,10]"
      ],
      "execution_count": null,
      "outputs": []
    },
    {
      "cell_type": "code",
      "metadata": {
        "colab": {
          "base_uri": "https://localhost:8080/"
        },
        "id": "AjLXn8sdNdaC",
        "outputId": "3c6ee3c2-9c1f-41df-ad27-d984c6015138"
      },
      "source": [
        "for item in alist:\n",
        "    print(item * 2)"
      ],
      "execution_count": null,
      "outputs": [
        {
          "output_type": "stream",
          "text": [
            "2\n",
            "4\n",
            "6\n",
            "8\n",
            "10\n"
          ],
          "name": "stdout"
        }
      ]
    },
    {
      "cell_type": "code",
      "metadata": {
        "colab": {
          "base_uri": "https://localhost:8080/"
        },
        "id": "r8_m3jSnNhVC",
        "outputId": "ae6b3b02-11b4-4fc2-8d58-1ff17c0e032f"
      },
      "source": [
        "blist = []\n",
        "for item in alist: \n",
        "    blist.append(item*2)\n",
        "print(blist)"
      ],
      "execution_count": null,
      "outputs": [
        {
          "output_type": "stream",
          "text": [
            "[2, 4, 6, 8, 10]\n"
          ],
          "name": "stdout"
        }
      ]
    },
    {
      "cell_type": "code",
      "metadata": {
        "id": "i5ldn57qO6ja"
      },
      "source": [
        "# Syntax \n",
        "# [ operation_on_item   for element in your_list]"
      ],
      "execution_count": null,
      "outputs": []
    },
    {
      "cell_type": "code",
      "metadata": {
        "colab": {
          "base_uri": "https://localhost:8080/"
        },
        "id": "XYkwiOjtNt5z",
        "outputId": "f8d45804-3ee5-4831-d1dc-153f09c28a8e"
      },
      "source": [
        "# list comprehension \n",
        "[item*2 for item in alist]"
      ],
      "execution_count": null,
      "outputs": [
        {
          "output_type": "execute_result",
          "data": {
            "text/plain": [
              "[2, 4, 6, 8, 10]"
            ]
          },
          "metadata": {
            "tags": []
          },
          "execution_count": 14
        }
      ]
    },
    {
      "cell_type": "code",
      "metadata": {
        "id": "1YSON4GmOAAu"
      },
      "source": [
        "alist = [1,2,3,4,5]\n",
        "# output = [2,4]"
      ],
      "execution_count": null,
      "outputs": []
    },
    {
      "cell_type": "code",
      "metadata": {
        "colab": {
          "base_uri": "https://localhost:8080/"
        },
        "id": "jULxsc57P7Sk",
        "outputId": "4744733c-c4fa-464e-a6cc-b95062537557"
      },
      "source": [
        "13/5"
      ],
      "execution_count": null,
      "outputs": [
        {
          "output_type": "execute_result",
          "data": {
            "text/plain": [
              "2.6"
            ]
          },
          "metadata": {
            "tags": []
          },
          "execution_count": 15
        }
      ]
    },
    {
      "cell_type": "code",
      "metadata": {
        "colab": {
          "base_uri": "https://localhost:8080/"
        },
        "id": "PG0oft1dP__f",
        "outputId": "32f67508-9c14-4210-c909-ec72244a1951"
      },
      "source": [
        "13%5"
      ],
      "execution_count": null,
      "outputs": [
        {
          "output_type": "execute_result",
          "data": {
            "text/plain": [
              "3"
            ]
          },
          "metadata": {
            "tags": []
          },
          "execution_count": 16
        }
      ]
    },
    {
      "cell_type": "code",
      "metadata": {
        "colab": {
          "base_uri": "https://localhost:8080/"
        },
        "id": "b_0ycbPtPrH0",
        "outputId": "77226ca6-be6f-4d68-84df-c91b990c8b96"
      },
      "source": [
        "# syntax \n",
        "# [operation_on_item for item in list if condition]\n",
        "[item for item in alist if item%2==0]"
      ],
      "execution_count": null,
      "outputs": [
        {
          "output_type": "execute_result",
          "data": {
            "text/plain": [
              "[2, 4]"
            ]
          },
          "metadata": {
            "tags": []
          },
          "execution_count": 17
        }
      ]
    },
    {
      "cell_type": "code",
      "metadata": {
        "id": "I7NjkJIyQF0U"
      },
      "source": [
        "# output [1,3,5]"
      ],
      "execution_count": null,
      "outputs": []
    },
    {
      "cell_type": "code",
      "metadata": {
        "colab": {
          "base_uri": "https://localhost:8080/"
        },
        "id": "PQedY4zHQrty",
        "outputId": "81d37002-d158-47a6-ec6e-e8a43901df1b"
      },
      "source": [
        "[item for item in alist if item%2!=0]"
      ],
      "execution_count": null,
      "outputs": [
        {
          "output_type": "execute_result",
          "data": {
            "text/plain": [
              "[1, 3, 5]"
            ]
          },
          "metadata": {
            "tags": []
          },
          "execution_count": 18
        }
      ]
    },
    {
      "cell_type": "code",
      "metadata": {
        "colab": {
          "base_uri": "https://localhost:8080/"
        },
        "id": "2ikRGSCaQ0E7",
        "outputId": "ea0b7744-e7b0-4f44-8006-8f89a46eea9f"
      },
      "source": [
        "[item for item in alist if item%2==1]"
      ],
      "execution_count": null,
      "outputs": [
        {
          "output_type": "execute_result",
          "data": {
            "text/plain": [
              "[1, 3, 5]"
            ]
          },
          "metadata": {
            "tags": []
          },
          "execution_count": 19
        }
      ]
    },
    {
      "cell_type": "code",
      "metadata": {
        "id": "HVG21LMMQ2It"
      },
      "source": [
        "blist = []\n",
        "for item in alist: \n",
        "    if item%2==1:\n",
        "        blist.append(item)\n",
        "print(blist)"
      ],
      "execution_count": null,
      "outputs": []
    },
    {
      "cell_type": "code",
      "metadata": {
        "id": "AvgP88XVRo7g"
      },
      "source": [
        "# How to download an external python package \n",
        "# ! pip install package_name"
      ],
      "execution_count": null,
      "outputs": []
    },
    {
      "cell_type": "code",
      "metadata": {
        "id": "nlBrNjsgUXhL"
      },
      "source": [
        "# Upgrade an existing python package \n",
        "# ! pip install --upgrade package_name"
      ],
      "execution_count": null,
      "outputs": []
    },
    {
      "cell_type": "code",
      "metadata": {
        "id": "M3PjeWxtUxEX"
      },
      "source": [
        "# I want to use Numpy\n",
        "import numpy as np"
      ],
      "execution_count": null,
      "outputs": []
    },
    {
      "cell_type": "code",
      "metadata": {
        "id": "ITdzCpt3U1Pj"
      },
      "source": [
        "# Syntax - \n",
        "# import package_name \n",
        "# import package_name as small_notation/ alias"
      ],
      "execution_count": null,
      "outputs": []
    },
    {
      "cell_type": "code",
      "metadata": {
        "colab": {
          "base_uri": "https://localhost:8080/",
          "height": 35
        },
        "id": "plSrlHfLVC8i",
        "outputId": "a78ef8e5-d8ea-47cb-9377-2421d467cc44"
      },
      "source": [
        "np.__version__"
      ],
      "execution_count": null,
      "outputs": [
        {
          "output_type": "execute_result",
          "data": {
            "application/vnd.google.colaboratory.intrinsic+json": {
              "type": "string"
            },
            "text/plain": [
              "'1.19.5'"
            ]
          },
          "metadata": {
            "tags": []
          },
          "execution_count": 22
        }
      ]
    },
    {
      "cell_type": "markdown",
      "metadata": {
        "id": "E6oMTdOlWOWx"
      },
      "source": [
        "### Numpy"
      ]
    },
    {
      "cell_type": "code",
      "metadata": {
        "id": "e9gd913SVQpM"
      },
      "source": [
        "# num + py\n",
        "# numerical + python\n"
      ],
      "execution_count": null,
      "outputs": []
    },
    {
      "cell_type": "code",
      "metadata": {
        "id": "Y26h3m5qXCis"
      },
      "source": [
        "# array - collection of objects/ elements \n",
        "# Array - 1D and matrix - nD "
      ],
      "execution_count": null,
      "outputs": []
    },
    {
      "cell_type": "code",
      "metadata": {
        "id": "CYKBP1m7XuEo"
      },
      "source": [
        "#array - [,1,2,3,4,5]\n",
        "#matrix = [[1,2],\n",
        "#          [3,4]]"
      ],
      "execution_count": null,
      "outputs": []
    },
    {
      "cell_type": "code",
      "metadata": {
        "id": "EI1wyAGUX56c"
      },
      "source": [
        "a_list = [1,2,3,4,5]\n",
        "a_array = np.array(a_list)"
      ],
      "execution_count": null,
      "outputs": []
    },
    {
      "cell_type": "code",
      "metadata": {
        "colab": {
          "base_uri": "https://localhost:8080/"
        },
        "id": "6VpV9R9uYDHy",
        "outputId": "e344e27c-b07e-464b-cb5a-cb4f1249bfda"
      },
      "source": [
        "type(a_list)"
      ],
      "execution_count": null,
      "outputs": [
        {
          "output_type": "execute_result",
          "data": {
            "text/plain": [
              "list"
            ]
          },
          "metadata": {
            "tags": []
          },
          "execution_count": 25
        }
      ]
    },
    {
      "cell_type": "code",
      "metadata": {
        "colab": {
          "base_uri": "https://localhost:8080/"
        },
        "id": "odFQZGUvYEmW",
        "outputId": "2811556c-0a6e-457a-9636-1b5ad7b9734f"
      },
      "source": [
        "type(a_array)"
      ],
      "execution_count": null,
      "outputs": [
        {
          "output_type": "execute_result",
          "data": {
            "text/plain": [
              "numpy.ndarray"
            ]
          },
          "metadata": {
            "tags": []
          },
          "execution_count": 26
        }
      ]
    },
    {
      "cell_type": "code",
      "metadata": {
        "colab": {
          "base_uri": "https://localhost:8080/"
        },
        "id": "F296WUZoYGu5",
        "outputId": "d77c8e0a-1c77-421f-bdec-a4936299e382"
      },
      "source": [
        "a_list * 3"
      ],
      "execution_count": null,
      "outputs": [
        {
          "output_type": "execute_result",
          "data": {
            "text/plain": [
              "[1, 2, 3, 4, 5, 1, 2, 3, 4, 5, 1, 2, 3, 4, 5]"
            ]
          },
          "metadata": {
            "tags": []
          },
          "execution_count": 28
        }
      ]
    },
    {
      "cell_type": "code",
      "metadata": {
        "colab": {
          "base_uri": "https://localhost:8080/"
        },
        "id": "ynCqcYFTY2_u",
        "outputId": "835e5b64-ce28-499e-feb7-b7d52a1bc4be"
      },
      "source": [
        "a_array * 3"
      ],
      "execution_count": null,
      "outputs": [
        {
          "output_type": "execute_result",
          "data": {
            "text/plain": [
              "array([ 3,  6,  9, 12, 15])"
            ]
          },
          "metadata": {
            "tags": []
          },
          "execution_count": 30
        }
      ]
    },
    {
      "cell_type": "code",
      "metadata": {
        "colab": {
          "base_uri": "https://localhost:8080/"
        },
        "id": "4KQPHFIFY_iW",
        "outputId": "9c9deaed-e4ab-4037-a36f-2fe428591c05"
      },
      "source": [
        "a_array.shape"
      ],
      "execution_count": null,
      "outputs": [
        {
          "output_type": "execute_result",
          "data": {
            "text/plain": [
              "(5,)"
            ]
          },
          "metadata": {
            "tags": []
          },
          "execution_count": 31
        }
      ]
    },
    {
      "cell_type": "code",
      "metadata": {
        "id": "bBobL9vRZciD"
      },
      "source": [
        "b_array = np.array([[1,  2,  3],\n",
        "                    [4,  5,  6],\n",
        "                    [7,  8,  9],\n",
        "                    [10, 11, 12]])"
      ],
      "execution_count": null,
      "outputs": []
    },
    {
      "cell_type": "code",
      "metadata": {
        "colab": {
          "base_uri": "https://localhost:8080/"
        },
        "id": "mTQTszZWZrvM",
        "outputId": "41ba2467-4b88-4341-9b65-d362928b8a0e"
      },
      "source": [
        "type(b_array)"
      ],
      "execution_count": null,
      "outputs": [
        {
          "output_type": "execute_result",
          "data": {
            "text/plain": [
              "numpy.ndarray"
            ]
          },
          "metadata": {
            "tags": []
          },
          "execution_count": 40
        }
      ]
    },
    {
      "cell_type": "code",
      "metadata": {
        "colab": {
          "base_uri": "https://localhost:8080/"
        },
        "id": "XZSLsrFLZtcm",
        "outputId": "dad01f9b-5946-4e84-ff1f-5e90528c747b"
      },
      "source": [
        "b_array.shape   # no_of_rows , no_of_columns"
      ],
      "execution_count": null,
      "outputs": [
        {
          "output_type": "execute_result",
          "data": {
            "text/plain": [
              "(4, 3)"
            ]
          },
          "metadata": {
            "tags": []
          },
          "execution_count": 41
        }
      ]
    },
    {
      "cell_type": "code",
      "metadata": {
        "colab": {
          "base_uri": "https://localhost:8080/"
        },
        "id": "mvR-z92QZy7H",
        "outputId": "e2bc5ff8-5f09-4946-dca1-4c3aa66d990e"
      },
      "source": [
        "np.ones(shape=(2,2), dtype=int)"
      ],
      "execution_count": null,
      "outputs": [
        {
          "output_type": "execute_result",
          "data": {
            "text/plain": [
              "array([[1, 1],\n",
              "       [1, 1]])"
            ]
          },
          "metadata": {
            "tags": []
          },
          "execution_count": 44
        }
      ]
    },
    {
      "cell_type": "code",
      "metadata": {
        "colab": {
          "base_uri": "https://localhost:8080/"
        },
        "id": "u-e8yUU5aUIX",
        "outputId": "2a818f85-5f89-432f-9f66-4dc579b2ae73"
      },
      "source": [
        "np.zeros(shape=(3,3))"
      ],
      "execution_count": null,
      "outputs": [
        {
          "output_type": "execute_result",
          "data": {
            "text/plain": [
              "array([[0., 0., 0.],\n",
              "       [0., 0., 0.],\n",
              "       [0., 0., 0.]])"
            ]
          },
          "metadata": {
            "tags": []
          },
          "execution_count": 43
        }
      ]
    },
    {
      "cell_type": "code",
      "metadata": {
        "colab": {
          "base_uri": "https://localhost:8080/"
        },
        "id": "JkNvQPnqaZZ1",
        "outputId": "5aae9941-c5c4-496c-b992-78174619464c"
      },
      "source": [
        "np.zeros(shape=(3,3), dtype=int) - 4"
      ],
      "execution_count": null,
      "outputs": [
        {
          "output_type": "execute_result",
          "data": {
            "text/plain": [
              "array([[-4, -4, -4],\n",
              "       [-4, -4, -4],\n",
              "       [-4, -4, -4]])"
            ]
          },
          "metadata": {
            "tags": []
          },
          "execution_count": 49
        }
      ]
    },
    {
      "cell_type": "code",
      "metadata": {
        "colab": {
          "base_uri": "https://localhost:8080/"
        },
        "id": "5_AnzeLLa3-Z",
        "outputId": "0a51b994-9c49-4d48-de00-455a3ae7c148"
      },
      "source": [
        "np.arange(10, 20)"
      ],
      "execution_count": null,
      "outputs": [
        {
          "output_type": "execute_result",
          "data": {
            "text/plain": [
              "array([10, 11, 12, 13, 14, 15, 16, 17, 18, 19])"
            ]
          },
          "metadata": {
            "tags": []
          },
          "execution_count": 50
        }
      ]
    },
    {
      "cell_type": "code",
      "metadata": {
        "colab": {
          "base_uri": "https://localhost:8080/"
        },
        "id": "YosGwittbvba",
        "outputId": "e73dd013-80a6-4740-85f0-33a825f264cf"
      },
      "source": [
        "np.arange(50, 75, 3)   # start, stop, step"
      ],
      "execution_count": null,
      "outputs": [
        {
          "output_type": "execute_result",
          "data": {
            "text/plain": [
              "array([50, 53, 56, 59, 62, 65, 68, 71, 74])"
            ]
          },
          "metadata": {
            "tags": []
          },
          "execution_count": 51
        }
      ]
    },
    {
      "cell_type": "code",
      "metadata": {
        "colab": {
          "base_uri": "https://localhost:8080/"
        },
        "id": "l2g67pcAbzZs",
        "outputId": "046aa42c-686a-4ea7-f8b1-dee65960f2be"
      },
      "source": [
        "# change the dimention of array\n",
        "d_array = np.arange(50, 75, 3 )\n",
        "np.reshape(d_array, (3,3))   # always remember - put your shape in (  ...  )"
      ],
      "execution_count": null,
      "outputs": [
        {
          "output_type": "execute_result",
          "data": {
            "text/plain": [
              "array([[50, 53, 56],\n",
              "       [59, 62, 65],\n",
              "       [68, 71, 74]])"
            ]
          },
          "metadata": {
            "tags": []
          },
          "execution_count": 52
        }
      ]
    },
    {
      "cell_type": "code",
      "metadata": {
        "id": "_PlFsubecYkv"
      },
      "source": [
        "#reshape d_array in (4,3)\n",
        "# An array of shape (4,3) should have 12 elements ... \n",
        "# d_array has only 9 "
      ],
      "execution_count": null,
      "outputs": []
    },
    {
      "cell_type": "code",
      "metadata": {
        "colab": {
          "base_uri": "https://localhost:8080/"
        },
        "id": "fAJeg_jmdgdE",
        "outputId": "4ffdce2f-e429-42d2-b0d4-0c206c440334"
      },
      "source": [
        "np.random.randint(10, 50, (3, 3))"
      ],
      "execution_count": null,
      "outputs": [
        {
          "output_type": "execute_result",
          "data": {
            "text/plain": [
              "array([[41, 26, 29],\n",
              "       [10, 41, 28],\n",
              "       [10, 32, 12]])"
            ]
          },
          "metadata": {
            "tags": []
          },
          "execution_count": 57
        }
      ]
    },
    {
      "cell_type": "code",
      "metadata": {
        "id": "ZsES5IxieEu6"
      },
      "source": [
        "# Slicing & Indexing "
      ],
      "execution_count": null,
      "outputs": []
    },
    {
      "cell_type": "code",
      "metadata": {
        "id": "xQd4by6-epAy"
      },
      "source": [
        "e_array = np.random.randint(10, 50, (3, 3))"
      ],
      "execution_count": null,
      "outputs": []
    },
    {
      "cell_type": "code",
      "metadata": {
        "colab": {
          "base_uri": "https://localhost:8080/"
        },
        "id": "wGDm7EdiesLf",
        "outputId": "e07f221f-bd4a-4859-ddc8-04708b814a24"
      },
      "source": [
        "e_array"
      ],
      "execution_count": null,
      "outputs": [
        {
          "output_type": "execute_result",
          "data": {
            "text/plain": [
              "array([[45, 32, 28],\n",
              "       [35, 34, 44],\n",
              "       [49, 24, 17]])"
            ]
          },
          "metadata": {
            "tags": []
          },
          "execution_count": 60
        }
      ]
    },
    {
      "cell_type": "code",
      "metadata": {
        "id": "FwSagrFEetSc"
      },
      "source": [
        "# Golden Rules of Python \n",
        "# 1. Everything inside python starts from ZERO"
      ],
      "execution_count": null,
      "outputs": []
    },
    {
      "cell_type": "code",
      "metadata": {
        "colab": {
          "base_uri": "https://localhost:8080/"
        },
        "id": "ClKHAjM6e_0P",
        "outputId": "3f005910-114e-4213-d914-b7db5ef13150"
      },
      "source": [
        "clist = [11, 15, 19, 18, 13]\n",
        "clist"
      ],
      "execution_count": null,
      "outputs": [
        {
          "output_type": "execute_result",
          "data": {
            "text/plain": [
              "[11, 15, 19, 18, 13]"
            ]
          },
          "metadata": {
            "tags": []
          },
          "execution_count": 64
        }
      ]
    },
    {
      "cell_type": "code",
      "metadata": {
        "id": "Gpm1KFyAfBPX"
      },
      "source": [
        "#  0,  1,  2,  3,  4\n",
        "# 11, 15, 19, 18, 13"
      ],
      "execution_count": null,
      "outputs": []
    },
    {
      "cell_type": "code",
      "metadata": {
        "colab": {
          "base_uri": "https://localhost:8080/"
        },
        "id": "HX3-_AWpfHKz",
        "outputId": "31a2d08e-a0f1-46e2-dc88-acca6cc9b091"
      },
      "source": [
        "e_array"
      ],
      "execution_count": null,
      "outputs": [
        {
          "output_type": "execute_result",
          "data": {
            "text/plain": [
              "array([[45, 32, 28],\n",
              "       [35, 34, 44],\n",
              "       [49, 24, 17]])"
            ]
          },
          "metadata": {
            "tags": []
          },
          "execution_count": 66
        }
      ]
    },
    {
      "cell_type": "code",
      "metadata": {
        "colab": {
          "base_uri": "https://localhost:8080/"
        },
        "id": "n0vf9eFMfjat",
        "outputId": "c67ebce9-e186-46e6-a2dc-e958f23fee65"
      },
      "source": [
        "# Syntax for indexing \n",
        "# array_name[row_number, col_number]\n",
        "e_array[1,1]"
      ],
      "execution_count": null,
      "outputs": [
        {
          "output_type": "execute_result",
          "data": {
            "text/plain": [
              "34"
            ]
          },
          "metadata": {
            "tags": []
          },
          "execution_count": 67
        }
      ]
    },
    {
      "cell_type": "code",
      "metadata": {
        "colab": {
          "base_uri": "https://localhost:8080/"
        },
        "id": "4Te80aWmgB8g",
        "outputId": "67bf7fe4-d66b-47d0-f4da-f72584e00a68"
      },
      "source": [
        "e_array[1, 2]"
      ],
      "execution_count": null,
      "outputs": [
        {
          "output_type": "execute_result",
          "data": {
            "text/plain": [
              "44"
            ]
          },
          "metadata": {
            "tags": []
          },
          "execution_count": 68
        }
      ]
    },
    {
      "cell_type": "code",
      "metadata": {
        "id": "iUuk8_azgNy5"
      },
      "source": [
        "# Slicing"
      ],
      "execution_count": null,
      "outputs": []
    },
    {
      "cell_type": "code",
      "metadata": {
        "colab": {
          "base_uri": "https://localhost:8080/"
        },
        "id": "1EVxRByWga53",
        "outputId": "188be245-1d9f-4589-e1d8-d3593f0a402b"
      },
      "source": [
        "clist"
      ],
      "execution_count": null,
      "outputs": [
        {
          "output_type": "execute_result",
          "data": {
            "text/plain": [
              "[11, 15, 19, 18, 13]"
            ]
          },
          "metadata": {
            "tags": []
          },
          "execution_count": 70
        }
      ]
    },
    {
      "cell_type": "code",
      "metadata": {
        "colab": {
          "base_uri": "https://localhost:8080/"
        },
        "id": "Yfi5HgAfgeLc",
        "outputId": "3d0f001c-b04d-4663-801c-489a45403dbf"
      },
      "source": [
        "clist[1:3]  # 1,2"
      ],
      "execution_count": null,
      "outputs": [
        {
          "output_type": "execute_result",
          "data": {
            "text/plain": [
              "[15, 19]"
            ]
          },
          "metadata": {
            "tags": []
          },
          "execution_count": 71
        }
      ]
    },
    {
      "cell_type": "code",
      "metadata": {
        "id": "nVhgx-ZAguuN"
      },
      "source": [
        "# Golden Rule \n",
        "# 2. Whenever in range the outer bound is exclusive"
      ],
      "execution_count": null,
      "outputs": []
    },
    {
      "cell_type": "code",
      "metadata": {
        "colab": {
          "base_uri": "https://localhost:8080/"
        },
        "id": "kPso5y5Tg5ik",
        "outputId": "657c46e8-9dd3-4f4c-fcaf-c5aedef03dc9"
      },
      "source": [
        "clist[1:4] # 1,2,3"
      ],
      "execution_count": null,
      "outputs": [
        {
          "output_type": "execute_result",
          "data": {
            "text/plain": [
              "[15, 19, 18]"
            ]
          },
          "metadata": {
            "tags": []
          },
          "execution_count": 73
        }
      ]
    },
    {
      "cell_type": "code",
      "metadata": {
        "colab": {
          "base_uri": "https://localhost:8080/"
        },
        "id": "89vu9-6Zg_I5",
        "outputId": "3833593d-3e91-4018-e20a-941643099352"
      },
      "source": [
        "e_array"
      ],
      "execution_count": null,
      "outputs": [
        {
          "output_type": "execute_result",
          "data": {
            "text/plain": [
              "array([[45, 32, 28],\n",
              "       [35, 34, 44],\n",
              "       [49, 24, 17]])"
            ]
          },
          "metadata": {
            "tags": []
          },
          "execution_count": 74
        }
      ]
    },
    {
      "cell_type": "code",
      "metadata": {
        "colab": {
          "base_uri": "https://localhost:8080/"
        },
        "id": "7Lvv225ohNuo",
        "outputId": "c37ef5f0-8efa-46e7-d64e-7fe09de2720c"
      },
      "source": [
        "f_array = np.random.randint(10, 50, (5,5))\n",
        "f_array"
      ],
      "execution_count": null,
      "outputs": [
        {
          "output_type": "execute_result",
          "data": {
            "text/plain": [
              "array([[32, 18, 46, 43, 44],\n",
              "       [29, 37, 23, 47, 12],\n",
              "       [37, 27, 34, 35, 36],\n",
              "       [30, 39, 14, 34, 16],\n",
              "       [38, 20, 45, 28, 38]])"
            ]
          },
          "metadata": {
            "tags": []
          },
          "execution_count": 75
        }
      ]
    },
    {
      "cell_type": "code",
      "metadata": {
        "id": "MW245X8ChWg9"
      },
      "source": [
        "#Syntax \n",
        "# array_name[start_row:end_row    ,    start_column:end_column]"
      ],
      "execution_count": null,
      "outputs": []
    },
    {
      "cell_type": "code",
      "metadata": {
        "colab": {
          "base_uri": "https://localhost:8080/"
        },
        "id": "kEZ5Ff0gh2YQ",
        "outputId": "96f39c7e-2871-4e56-8883-b5fde243b7c7"
      },
      "source": [
        "f_array[1:4, 1:3]"
      ],
      "execution_count": null,
      "outputs": [
        {
          "output_type": "execute_result",
          "data": {
            "text/plain": [
              "array([[37, 23],\n",
              "       [27, 34],\n",
              "       [39, 14]])"
            ]
          },
          "metadata": {
            "tags": []
          },
          "execution_count": 77
        }
      ]
    },
    {
      "cell_type": "code",
      "metadata": {
        "colab": {
          "base_uri": "https://localhost:8080/"
        },
        "id": "aj4ivKWFh-go",
        "outputId": "658b3d36-e8e9-4971-aef3-829851de729c"
      },
      "source": [
        "f_array[2:4, 2:4]"
      ],
      "execution_count": null,
      "outputs": [
        {
          "output_type": "execute_result",
          "data": {
            "text/plain": [
              "array([[34, 35],\n",
              "       [14, 34]])"
            ]
          },
          "metadata": {
            "tags": []
          },
          "execution_count": 78
        }
      ]
    },
    {
      "cell_type": "code",
      "metadata": {
        "id": "cr5ccnpOil0D"
      },
      "source": [
        ""
      ],
      "execution_count": null,
      "outputs": []
    }
  ]
}