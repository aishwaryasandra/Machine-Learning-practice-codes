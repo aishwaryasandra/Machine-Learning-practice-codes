{
 "cells": [
  {
   "cell_type": "code",
   "execution_count": null,
   "metadata": {
    "id": "4Xf16Usk-TbM"
   },
   "outputs": [],
   "source": [
    "# 1. Completed Python \n",
    "# 2. Numpy \n",
    "# 3. Pandas (groupby, value_counts)\n",
    "# 4. Matplotlib"
   ]
  },
  {
   "cell_type": "code",
   "execution_count": null,
   "metadata": {
    "id": "PmeH_yWA-v2V"
   },
   "outputs": [],
   "source": [
    "import numpy as np \n",
    "import pandas as pd \n",
    "import matplotlib.pyplot as plt"
   ]
  },
  {
   "cell_type": "code",
   "execution_count": null,
   "metadata": {
    "id": "T5CEjZV7-80g"
   },
   "outputs": [],
   "source": [
    "# Encoding - \n",
    "# There is a file called data.txt which contains latin words \n",
    "with open(\"data.txt\", \"r\", encoding=\"utf-8\") as _file:\n",
    "    content = _file.read()\n",
    "\n",
    "# latin-1"
   ]
  },
  {
   "cell_type": "code",
   "execution_count": null,
   "metadata": {
    "colab": {
     "base_uri": "https://localhost:8080/",
     "height": 183
    },
    "id": "JX5uCx_wAKb4",
    "outputId": "4d9ef790-936a-4647-8ebb-3f87fbbbabff"
   },
   "outputs": [
    {
     "ename": "ZeroDivisionError",
     "evalue": "ignored",
     "output_type": "error",
     "traceback": [
      "\u001b[0;31m---------------------------------------------------------------------------\u001b[0m",
      "\u001b[0;31mZeroDivisionError\u001b[0m                         Traceback (most recent call last)",
      "\u001b[0;32m<ipython-input-2-4a8c3ee86e74>\u001b[0m in \u001b[0;36m<module>\u001b[0;34m()\u001b[0m\n\u001b[1;32m      1\u001b[0m \u001b[0;31m# Exceptional Handling\u001b[0m\u001b[0;34m\u001b[0m\u001b[0;34m\u001b[0m\u001b[0;34m\u001b[0m\u001b[0m\n\u001b[0;32m----> 2\u001b[0;31m \u001b[0;36m10\u001b[0m\u001b[0;34m/\u001b[0m\u001b[0;36m0\u001b[0m\u001b[0;34m\u001b[0m\u001b[0;34m\u001b[0m\u001b[0m\n\u001b[0m",
      "\u001b[0;31mZeroDivisionError\u001b[0m: division by zero"
     ]
    }
   ],
   "source": [
    "# Exceptional Handling \n",
    "10/0"
   ]
  },
  {
   "cell_type": "code",
   "execution_count": null,
   "metadata": {
    "colab": {
     "base_uri": "https://localhost:8080/",
     "height": 166
    },
    "id": "tRMMjJoZAk--",
    "outputId": "9ed46d61-8201-4c65-ce16-a80f8cdd919e"
   },
   "outputs": [
    {
     "ename": "FileNotFoundError",
     "evalue": "ignored",
     "output_type": "error",
     "traceback": [
      "\u001b[0;31m---------------------------------------------------------------------------\u001b[0m",
      "\u001b[0;31mFileNotFoundError\u001b[0m                         Traceback (most recent call last)",
      "\u001b[0;32m<ipython-input-3-46c080b3d8b9>\u001b[0m in \u001b[0;36m<module>\u001b[0;34m()\u001b[0m\n\u001b[0;32m----> 1\u001b[0;31m \u001b[0mtaxFile\u001b[0m \u001b[0;34m=\u001b[0m \u001b[0mopen\u001b[0m\u001b[0;34m(\u001b[0m\u001b[0;34m\"taxFile.txt\"\u001b[0m\u001b[0;34m,\u001b[0m \u001b[0;34m\"r\"\u001b[0m\u001b[0;34m)\u001b[0m\u001b[0;34m\u001b[0m\u001b[0;34m\u001b[0m\u001b[0m\n\u001b[0m",
      "\u001b[0;31mFileNotFoundError\u001b[0m: [Errno 2] No such file or directory: 'taxFile.txt'"
     ]
    }
   ],
   "source": [
    "taxFile = open(\"taxFile.txt\", \"r\")"
   ]
  },
  {
   "cell_type": "code",
   "execution_count": null,
   "metadata": {
    "colab": {
     "base_uri": "https://localhost:8080/"
    },
    "id": "c-GOUb55Aq4T",
    "outputId": "909f5db7-3a28-4a17-ed09-d2217e72e257"
   },
   "outputs": [
    {
     "name": "stdout",
     "output_type": "stream",
     "text": [
      "Tax File not found on system, please make sure you have uploaded the file correctly\n"
     ]
    }
   ],
   "source": [
    "try:\n",
    "    taxFile = open(\"taxFile.txt\", \"r\")\n",
    "except Exception as e:\n",
    "    print(\"Tax File not found on system, please make sure you have uploaded the file correctly\")"
   ]
  },
  {
   "cell_type": "code",
   "execution_count": null,
   "metadata": {
    "id": "89hxbxcaBjbt"
   },
   "outputs": [],
   "source": [
    "! touch taxFile.txt   #unix command - to create a blank file"
   ]
  },
  {
   "cell_type": "code",
   "execution_count": null,
   "metadata": {
    "colab": {
     "base_uri": "https://localhost:8080/"
    },
    "id": "ALb64eX6Bq6R",
    "outputId": "388cffd6-95c2-44c6-fbd9-9907ee1de997"
   },
   "outputs": [
    {
     "name": "stdout",
     "output_type": "stream",
     "text": [
      "Read the file succesfully!\n"
     ]
    }
   ],
   "source": [
    "try:\n",
    "    taxFile = open(\"taxFile.txt\", \"r\")\n",
    "    \n",
    "    taxFile.close()\n",
    "    print(\"Read the file succesfully!\")\n",
    "except Exception as e:\n",
    "    print(\"Tax File not found on system, please make sure you have uploaded the file correctly\")"
   ]
  },
  {
   "cell_type": "code",
   "execution_count": null,
   "metadata": {
    "colab": {
     "base_uri": "https://localhost:8080/"
    },
    "id": "GSE9IVdtB3Wy",
    "outputId": "0fb331ca-6b68-4ebb-df43-4e3a89b3dd6e"
   },
   "outputs": [
    {
     "name": "stdout",
     "output_type": "stream",
     "text": [
      "Age can not be 0\n"
     ]
    }
   ],
   "source": [
    "age = 0\n",
    "salary = 100  \n",
    "try:\n",
    "    someRatio = salary/age\n",
    "except ZeroDivisionError as e:\n",
    "    print(\"Age can not be 0\")"
   ]
  },
  {
   "cell_type": "code",
   "execution_count": null,
   "metadata": {
    "id": "HapR5brHCq_M"
   },
   "outputs": [],
   "source": [
    "# ZeroDivisionError, FileExistsError, FileNotFoundError, FloatingPointError\n",
    "# list of all the buit-in exceptions https://docs.python.org/3/library/exceptions.html#exception-hierarchy"
   ]
  },
  {
   "cell_type": "code",
   "execution_count": null,
   "metadata": {
    "colab": {
     "base_uri": "https://localhost:8080/"
    },
    "id": "o-9x_WuBDYxQ",
    "outputId": "e2283344-f88a-4503-a0bd-0264c91ccf55"
   },
   "outputs": [
    {
     "name": "stdout",
     "output_type": "stream",
     "text": [
      "division by zero\n"
     ]
    }
   ],
   "source": [
    "# Exception \n",
    "try: \n",
    "    10/0\n",
    "except Exception as e:\n",
    "    print(e)"
   ]
  },
  {
   "cell_type": "code",
   "execution_count": null,
   "metadata": {
    "colab": {
     "base_uri": "https://localhost:8080/"
    },
    "id": "l7HbnolDDrQJ",
    "outputId": "f15b8e1f-397b-4465-f931-5e8acbf3304f"
   },
   "outputs": [
    {
     "name": "stdout",
     "output_type": "stream",
     "text": [
      "Something went wrong:  [Errno 2] No such file or directory: 'taxFile1.txt'\n"
     ]
    }
   ],
   "source": [
    "salary = 100 \n",
    "age = 10 \n",
    "taxFile = \"taxFile1.txt\"\n",
    "try:\n",
    "    someRatio = salary / age\n",
    "    taxpath = open(taxFile, \"r\")\n",
    "    taxfile = taxpath.read()\n",
    "    taxpath.close()\n",
    "except (ZeroDivisionError, FileNotFoundError) as e:\n",
    "    print(\"Something went wrong: \", e) "
   ]
  },
  {
   "cell_type": "code",
   "execution_count": null,
   "metadata": {
    "colab": {
     "base_uri": "https://localhost:8080/"
    },
    "id": "WKrbOgt8EO8u",
    "outputId": "dc97c259-e96e-4994-ef59-4f1e581b876e"
   },
   "outputs": [
    {
     "name": "stdout",
     "output_type": "stream",
     "text": [
      "0\n",
      "a is 10\n",
      "b is 1\n",
      "c is 10.0\n"
     ]
    }
   ],
   "source": [
    "a = 10 \n",
    "b = 0\n",
    "try:\n",
    "    c = a/b\n",
    "except Exception as e:\n",
    "    print(b)\n",
    "    b = 1 # check if this is possible or not\n",
    "    c = a / b\n",
    "print(f\"a is {a}\")\n",
    "print(f\"b is {b}\")\n",
    "print(f\"c is {c}\")"
   ]
  },
  {
   "cell_type": "code",
   "execution_count": null,
   "metadata": {
    "id": "0o9_QU1HRIO3"
   },
   "outputs": [],
   "source": [
    "def taxCalculation():\n",
    "    try:\n",
    "        ans = salary/age\n",
    "    except Exception as e: \n",
    "        ans = 0 \n",
    "    return ans"
   ]
  },
  {
   "cell_type": "code",
   "execution_count": null,
   "metadata": {
    "id": "C5Gc0TO2RJCE"
   },
   "outputs": [],
   "source": [
    "def taxCal(salary, age):\n",
    "    if age == 0:\n",
    "        raise ValueError(\"Age can not be Zero!\")\n",
    "    ans = salary/age\n",
    "    return ans"
   ]
  },
  {
   "cell_type": "code",
   "execution_count": null,
   "metadata": {
    "colab": {
     "base_uri": "https://localhost:8080/",
     "height": 288
    },
    "id": "atDAlzrgRyEV",
    "outputId": "8e9a5d89-9135-442e-9ba6-aad886a51faa"
   },
   "outputs": [
    {
     "ename": "ValueError",
     "evalue": "ignored",
     "output_type": "error",
     "traceback": [
      "\u001b[0;31m---------------------------------------------------------------------------\u001b[0m",
      "\u001b[0;31mValueError\u001b[0m                                Traceback (most recent call last)",
      "\u001b[0;32m<ipython-input-59-6d91fd84eb8e>\u001b[0m in \u001b[0;36m<module>\u001b[0;34m()\u001b[0m\n\u001b[0;32m----> 1\u001b[0;31m \u001b[0mtaxCal\u001b[0m\u001b[0;34m(\u001b[0m\u001b[0;36m100\u001b[0m\u001b[0;34m,\u001b[0m \u001b[0;36m0\u001b[0m\u001b[0;34m)\u001b[0m\u001b[0;34m\u001b[0m\u001b[0;34m\u001b[0m\u001b[0m\n\u001b[0m",
      "\u001b[0;32m<ipython-input-56-262d6cec6580>\u001b[0m in \u001b[0;36mtaxCal\u001b[0;34m(salary, age)\u001b[0m\n\u001b[1;32m      1\u001b[0m \u001b[0;32mdef\u001b[0m \u001b[0mtaxCal\u001b[0m\u001b[0;34m(\u001b[0m\u001b[0msalary\u001b[0m\u001b[0;34m,\u001b[0m \u001b[0mage\u001b[0m\u001b[0;34m)\u001b[0m\u001b[0;34m:\u001b[0m\u001b[0;34m\u001b[0m\u001b[0;34m\u001b[0m\u001b[0m\n\u001b[1;32m      2\u001b[0m     \u001b[0;32mif\u001b[0m \u001b[0mage\u001b[0m \u001b[0;34m==\u001b[0m \u001b[0;36m0\u001b[0m\u001b[0;34m:\u001b[0m\u001b[0;34m\u001b[0m\u001b[0;34m\u001b[0m\u001b[0m\n\u001b[0;32m----> 3\u001b[0;31m         \u001b[0;32mraise\u001b[0m \u001b[0mValueError\u001b[0m\u001b[0;34m(\u001b[0m\u001b[0;34m\"Age can not be Zero!\"\u001b[0m\u001b[0;34m)\u001b[0m\u001b[0;34m\u001b[0m\u001b[0;34m\u001b[0m\u001b[0m\n\u001b[0m\u001b[1;32m      4\u001b[0m     \u001b[0mans\u001b[0m \u001b[0;34m=\u001b[0m \u001b[0msalary\u001b[0m\u001b[0;34m/\u001b[0m\u001b[0mage\u001b[0m\u001b[0;34m\u001b[0m\u001b[0;34m\u001b[0m\u001b[0m\n\u001b[1;32m      5\u001b[0m     \u001b[0;32mreturn\u001b[0m \u001b[0mans\u001b[0m\u001b[0;34m\u001b[0m\u001b[0;34m\u001b[0m\u001b[0m\n",
      "\u001b[0;31mValueError\u001b[0m: Age can not be Zero!"
     ]
    }
   ],
   "source": [
    "taxCal(100, 0)"
   ]
  },
  {
   "cell_type": "code",
   "execution_count": null,
   "metadata": {
    "id": "EVpxLQkPFn0_"
   },
   "outputs": [],
   "source": [
    "# File Handling \n",
    "\n",
    "# Read file \n",
    "with open(\"sample_data/anscombe.json\", \"r\") as ansFile:\n",
    "    ansContent = ansFile.read()"
   ]
  },
  {
   "cell_type": "code",
   "execution_count": null,
   "metadata": {
    "colab": {
     "base_uri": "https://localhost:8080/"
    },
    "id": "5jQ2bd7wHsi5",
    "outputId": "77d35458-202f-42d4-ffc6-dfa58bbb2534"
   },
   "outputs": [
    {
     "name": "stdout",
     "output_type": "stream",
     "text": [
      "[\n",
      "  {\"Series\":\"I\", \"X\":10.0, \"Y\":8.04},\n",
      "  {\"Series\":\"I\", \"X\":8.0, \"Y\":6.95},\n",
      "  {\"Series\":\"I\", \"X\":13.0, \"Y\":7.58},\n",
      "  {\"Series\":\"I\", \"X\":9.0, \"Y\":8.81},\n",
      "  {\"Series\":\"I\", \"X\":11.0, \"Y\":8.33},\n",
      "  {\"Series\":\"I\", \"X\":14.0, \"Y\":9.96},\n",
      "  {\"Series\":\"I\", \"X\":6.0, \"Y\":7.24},\n",
      "  {\"Series\":\"I\", \"X\":4.0, \"Y\":4.26},\n",
      "  {\"Series\":\"I\", \"X\":12.0, \"Y\":10.84},\n",
      "  {\"Series\":\"I\", \"X\":7.0, \"Y\":4.81},\n",
      "  {\"Series\":\"I\", \"X\":5.0, \"Y\":5.68},\n",
      "\n",
      "  {\"Series\":\"II\", \"X\":10.0, \"Y\":9.14},\n",
      "  {\"Series\":\"II\", \"X\":8.0, \"Y\":8.14},\n",
      "  {\"Series\":\"II\", \"X\":13.0, \"Y\":8.74},\n",
      "  {\"Series\":\"II\", \"X\":9.0, \"Y\":8.77},\n",
      "  {\"Series\":\"II\", \"X\":11.0, \"Y\":9.26},\n",
      "  {\"Series\":\"II\", \"X\":14.0, \"Y\":8.10},\n",
      "  {\"Series\":\"II\", \"X\":6.0, \"Y\":6.13},\n",
      "  {\"Series\":\"II\", \"X\":4.0, \"Y\":3.10},\n",
      "  {\"Series\":\"II\", \"X\":12.0, \"Y\":9.13},\n",
      "  {\"Series\":\"II\", \"X\":7.0, \"Y\":7.26},\n",
      "  {\"Series\":\"II\", \"X\":5.0, \"Y\":4.74},\n",
      "\n",
      "  {\"Series\":\"III\", \"X\":10.0, \"Y\":7.46},\n",
      "  {\"Series\":\"III\", \"X\":8.0, \"Y\":6.77},\n",
      "  {\"Series\":\"III\", \"X\":13.0, \"Y\":12.74},\n",
      "  {\"Series\":\"III\", \"X\":9.0, \"Y\":7.11},\n",
      "  {\"Series\":\"III\", \"X\":11.0, \"Y\":7.81},\n",
      "  {\"Series\":\"III\", \"X\":14.0, \"Y\":8.84},\n",
      "  {\"Series\":\"III\", \"X\":6.0, \"Y\":6.08},\n",
      "  {\"Series\":\"III\", \"X\":4.0, \"Y\":5.39},\n",
      "  {\"Series\":\"III\", \"X\":12.0, \"Y\":8.15},\n",
      "  {\"Series\":\"III\", \"X\":7.0, \"Y\":6.42},\n",
      "  {\"Series\":\"III\", \"X\":5.0, \"Y\":5.73},\n",
      "\n",
      "  {\"Series\":\"IV\", \"X\":8.0, \"Y\":6.58},\n",
      "  {\"Series\":\"IV\", \"X\":8.0, \"Y\":5.76},\n",
      "  {\"Series\":\"IV\", \"X\":8.0, \"Y\":7.71},\n",
      "  {\"Series\":\"IV\", \"X\":8.0, \"Y\":8.84},\n",
      "  {\"Series\":\"IV\", \"X\":8.0, \"Y\":8.47},\n",
      "  {\"Series\":\"IV\", \"X\":8.0, \"Y\":7.04},\n",
      "  {\"Series\":\"IV\", \"X\":8.0, \"Y\":5.25},\n",
      "  {\"Series\":\"IV\", \"X\":19.0, \"Y\":12.50},\n",
      "  {\"Series\":\"IV\", \"X\":8.0, \"Y\":5.56},\n",
      "  {\"Series\":\"IV\", \"X\":8.0, \"Y\":7.91},\n",
      "  {\"Series\":\"IV\", \"X\":8.0, \"Y\":6.89}\n",
      "]\n",
      "\n"
     ]
    }
   ],
   "source": [
    "print(ansContent)"
   ]
  },
  {
   "cell_type": "code",
   "execution_count": null,
   "metadata": {
    "id": "VwttmBrUHt1d"
   },
   "outputs": [],
   "source": [
    "myContent = \"This is my first line of text.\"\n",
    "with open(\"myfile.txt\", 'w') as myFile:\n",
    "    myFile.write(myContent)"
   ]
  },
  {
   "cell_type": "code",
   "execution_count": null,
   "metadata": {
    "id": "yT6L8Jr0IOS4"
   },
   "outputs": [],
   "source": [
    "# For Windows people \n",
    "# C:\\\\Users\\\\username\\\\Downloads\\\\myfile.txt\n",
    "# C:/Users/username/Downloads/myfile.txt\n",
    "\n",
    "with open(\"C:\\\\Users\\\\username\\\\Downloads\\\\myfile.txt\", \"r\") as myFile:\n",
    "    myContent = myFile.read()"
   ]
  },
  {
   "cell_type": "code",
   "execution_count": null,
   "metadata": {
    "id": "yQ0WOYZdJFJW"
   },
   "outputs": [],
   "source": [
    "# 'r' - read mode \n",
    "# 'w' - write mode \n",
    "# 'a' - append mode\n",
    "# 'b' - binary mode "
   ]
  },
  {
   "cell_type": "code",
   "execution_count": null,
   "metadata": {
    "id": "ZkDXax7FJ9gr"
   },
   "outputs": [],
   "source": [
    "# !Pandas!\n",
    "# GroupBy, value_counts "
   ]
  },
  {
   "cell_type": "code",
   "execution_count": null,
   "metadata": {
    "id": "5S3hF_LNKA6r"
   },
   "outputs": [],
   "source": [
    "df = pd.DataFrame()\n",
    "df[\"Product\"] = np.random.choice([\"P1\", \"P2\", \"P3\", \"P4\", \"P5\"], 10)\n",
    "df[\"Quantity\"] = np.random.randint(1, 10, 10)"
   ]
  },
  {
   "cell_type": "code",
   "execution_count": null,
   "metadata": {
    "colab": {
     "base_uri": "https://localhost:8080/",
     "height": 358
    },
    "id": "OxDbEEkiKXSm",
    "outputId": "c40f8131-93cb-4950-b18f-1b3e31eb870e"
   },
   "outputs": [
    {
     "data": {
      "text/html": [
       "<div>\n",
       "<style scoped>\n",
       "    .dataframe tbody tr th:only-of-type {\n",
       "        vertical-align: middle;\n",
       "    }\n",
       "\n",
       "    .dataframe tbody tr th {\n",
       "        vertical-align: top;\n",
       "    }\n",
       "\n",
       "    .dataframe thead th {\n",
       "        text-align: right;\n",
       "    }\n",
       "</style>\n",
       "<table border=\"1\" class=\"dataframe\">\n",
       "  <thead>\n",
       "    <tr style=\"text-align: right;\">\n",
       "      <th></th>\n",
       "      <th>Product</th>\n",
       "      <th>Quantity</th>\n",
       "    </tr>\n",
       "  </thead>\n",
       "  <tbody>\n",
       "    <tr>\n",
       "      <th>0</th>\n",
       "      <td>P2</td>\n",
       "      <td>4</td>\n",
       "    </tr>\n",
       "    <tr>\n",
       "      <th>1</th>\n",
       "      <td>P4</td>\n",
       "      <td>2</td>\n",
       "    </tr>\n",
       "    <tr>\n",
       "      <th>2</th>\n",
       "      <td>P3</td>\n",
       "      <td>8</td>\n",
       "    </tr>\n",
       "    <tr>\n",
       "      <th>3</th>\n",
       "      <td>P4</td>\n",
       "      <td>7</td>\n",
       "    </tr>\n",
       "    <tr>\n",
       "      <th>4</th>\n",
       "      <td>P4</td>\n",
       "      <td>3</td>\n",
       "    </tr>\n",
       "    <tr>\n",
       "      <th>5</th>\n",
       "      <td>P5</td>\n",
       "      <td>6</td>\n",
       "    </tr>\n",
       "    <tr>\n",
       "      <th>6</th>\n",
       "      <td>P5</td>\n",
       "      <td>1</td>\n",
       "    </tr>\n",
       "    <tr>\n",
       "      <th>7</th>\n",
       "      <td>P1</td>\n",
       "      <td>4</td>\n",
       "    </tr>\n",
       "    <tr>\n",
       "      <th>8</th>\n",
       "      <td>P2</td>\n",
       "      <td>2</td>\n",
       "    </tr>\n",
       "    <tr>\n",
       "      <th>9</th>\n",
       "      <td>P5</td>\n",
       "      <td>4</td>\n",
       "    </tr>\n",
       "  </tbody>\n",
       "</table>\n",
       "</div>"
      ],
      "text/plain": [
       "  Product  Quantity\n",
       "0      P2         4\n",
       "1      P4         2\n",
       "2      P3         8\n",
       "3      P4         7\n",
       "4      P4         3\n",
       "5      P5         6\n",
       "6      P5         1\n",
       "7      P1         4\n",
       "8      P2         2\n",
       "9      P5         4"
      ]
     },
     "execution_count": 27,
     "metadata": {
      "tags": []
     },
     "output_type": "execute_result"
    }
   ],
   "source": [
    "df"
   ]
  },
  {
   "cell_type": "code",
   "execution_count": null,
   "metadata": {
    "colab": {
     "base_uri": "https://localhost:8080/"
    },
    "id": "urf4EEEZKXnn",
    "outputId": "53474b31-1043-4380-f7a3-df980550a6aa"
   },
   "outputs": [
    {
     "data": {
      "text/plain": [
       "array(['P2', 'P4', 'P3', 'P5', 'P1'], dtype=object)"
      ]
     },
     "execution_count": 32,
     "metadata": {
      "tags": []
     },
     "output_type": "execute_result"
    }
   ],
   "source": [
    "df.Product.unique()"
   ]
  },
  {
   "cell_type": "code",
   "execution_count": null,
   "metadata": {
    "colab": {
     "base_uri": "https://localhost:8080/"
    },
    "id": "UYni-RIBLU_I",
    "outputId": "66d2c508-67b7-41ae-f7f1-1914eb1658c9"
   },
   "outputs": [
    {
     "data": {
      "text/plain": [
       "P5    3\n",
       "P4    3\n",
       "P2    2\n",
       "P1    1\n",
       "P3    1\n",
       "Name: Product, dtype: int64"
      ]
     },
     "execution_count": 33,
     "metadata": {
      "tags": []
     },
     "output_type": "execute_result"
    }
   ],
   "source": [
    "df.Product.value_counts()"
   ]
  },
  {
   "cell_type": "code",
   "execution_count": null,
   "metadata": {
    "colab": {
     "base_uri": "https://localhost:8080/",
     "height": 234
    },
    "id": "hyONVfWsLplf",
    "outputId": "daeba657-9e3d-4648-9ee9-f3d91a720cff"
   },
   "outputs": [
    {
     "data": {
      "text/html": [
       "<div>\n",
       "<style scoped>\n",
       "    .dataframe tbody tr th:only-of-type {\n",
       "        vertical-align: middle;\n",
       "    }\n",
       "\n",
       "    .dataframe tbody tr th {\n",
       "        vertical-align: top;\n",
       "    }\n",
       "\n",
       "    .dataframe thead th {\n",
       "        text-align: right;\n",
       "    }\n",
       "</style>\n",
       "<table border=\"1\" class=\"dataframe\">\n",
       "  <thead>\n",
       "    <tr style=\"text-align: right;\">\n",
       "      <th></th>\n",
       "      <th>Quantity</th>\n",
       "    </tr>\n",
       "    <tr>\n",
       "      <th>Product</th>\n",
       "      <th></th>\n",
       "    </tr>\n",
       "  </thead>\n",
       "  <tbody>\n",
       "    <tr>\n",
       "      <th>P1</th>\n",
       "      <td>4</td>\n",
       "    </tr>\n",
       "    <tr>\n",
       "      <th>P2</th>\n",
       "      <td>6</td>\n",
       "    </tr>\n",
       "    <tr>\n",
       "      <th>P3</th>\n",
       "      <td>8</td>\n",
       "    </tr>\n",
       "    <tr>\n",
       "      <th>P4</th>\n",
       "      <td>12</td>\n",
       "    </tr>\n",
       "    <tr>\n",
       "      <th>P5</th>\n",
       "      <td>11</td>\n",
       "    </tr>\n",
       "  </tbody>\n",
       "</table>\n",
       "</div>"
      ],
      "text/plain": [
       "         Quantity\n",
       "Product          \n",
       "P1              4\n",
       "P2              6\n",
       "P3              8\n",
       "P4             12\n",
       "P5             11"
      ]
     },
     "execution_count": 34,
     "metadata": {
      "tags": []
     },
     "output_type": "execute_result"
    }
   ],
   "source": [
    "df.groupby(\"Product\").agg({\"Quantity\": \"sum\"})"
   ]
  },
  {
   "cell_type": "code",
   "execution_count": null,
   "metadata": {
    "colab": {
     "base_uri": "https://localhost:8080/",
     "height": 234
    },
    "id": "AeePbBbLNSH5",
    "outputId": "9ebe7900-413e-4f57-f481-2c8f17385567"
   },
   "outputs": [
    {
     "data": {
      "text/html": [
       "<div>\n",
       "<style scoped>\n",
       "    .dataframe tbody tr th:only-of-type {\n",
       "        vertical-align: middle;\n",
       "    }\n",
       "\n",
       "    .dataframe tbody tr th {\n",
       "        vertical-align: top;\n",
       "    }\n",
       "\n",
       "    .dataframe thead th {\n",
       "        text-align: right;\n",
       "    }\n",
       "</style>\n",
       "<table border=\"1\" class=\"dataframe\">\n",
       "  <thead>\n",
       "    <tr style=\"text-align: right;\">\n",
       "      <th></th>\n",
       "      <th>Quantity</th>\n",
       "    </tr>\n",
       "    <tr>\n",
       "      <th>Product</th>\n",
       "      <th></th>\n",
       "    </tr>\n",
       "  </thead>\n",
       "  <tbody>\n",
       "    <tr>\n",
       "      <th>P1</th>\n",
       "      <td>4.000000</td>\n",
       "    </tr>\n",
       "    <tr>\n",
       "      <th>P2</th>\n",
       "      <td>3.000000</td>\n",
       "    </tr>\n",
       "    <tr>\n",
       "      <th>P3</th>\n",
       "      <td>8.000000</td>\n",
       "    </tr>\n",
       "    <tr>\n",
       "      <th>P4</th>\n",
       "      <td>4.000000</td>\n",
       "    </tr>\n",
       "    <tr>\n",
       "      <th>P5</th>\n",
       "      <td>3.666667</td>\n",
       "    </tr>\n",
       "  </tbody>\n",
       "</table>\n",
       "</div>"
      ],
      "text/plain": [
       "         Quantity\n",
       "Product          \n",
       "P1       4.000000\n",
       "P2       3.000000\n",
       "P3       8.000000\n",
       "P4       4.000000\n",
       "P5       3.666667"
      ]
     },
     "execution_count": 40,
     "metadata": {
      "tags": []
     },
     "output_type": "execute_result"
    }
   ],
   "source": [
    "df.groupby(\"Product\").agg({\"Quantity\": \"mean\"})"
   ]
  },
  {
   "cell_type": "code",
   "execution_count": null,
   "metadata": {
    "colab": {
     "base_uri": "https://localhost:8080/"
    },
    "id": "AJuDRCuNNWR7",
    "outputId": "fe40c609-ca4f-4c7a-f9a5-2a1f0ecef410"
   },
   "outputs": [
    {
     "name": "stdout",
     "output_type": "stream",
     "text": [
      "P2 6\n",
      "P4 12\n",
      "P3 8\n",
      "P5 11\n",
      "P1 4\n"
     ]
    }
   ],
   "source": [
    "for p in df.Product.unique():\n",
    "    _sum = df.loc[df.Product == p, \"Quantity\"].sum()\n",
    "    print(p, _sum)"
   ]
  },
  {
   "cell_type": "code",
   "execution_count": null,
   "metadata": {
    "id": "RpVZKY59NvFk"
   },
   "outputs": [],
   "source": [
    "productQuantAgg = df.groupby(\"Product\").agg({\"Quantity\": \"sum\"}).reset_index()"
   ]
  },
  {
   "cell_type": "code",
   "execution_count": null,
   "metadata": {
    "colab": {
     "base_uri": "https://localhost:8080/",
     "height": 203
    },
    "id": "8_erRsKrOlZG",
    "outputId": "136bab1f-4d73-47c1-f413-e2287089e0bf"
   },
   "outputs": [
    {
     "data": {
      "text/html": [
       "<div>\n",
       "<style scoped>\n",
       "    .dataframe tbody tr th:only-of-type {\n",
       "        vertical-align: middle;\n",
       "    }\n",
       "\n",
       "    .dataframe tbody tr th {\n",
       "        vertical-align: top;\n",
       "    }\n",
       "\n",
       "    .dataframe thead th {\n",
       "        text-align: right;\n",
       "    }\n",
       "</style>\n",
       "<table border=\"1\" class=\"dataframe\">\n",
       "  <thead>\n",
       "    <tr style=\"text-align: right;\">\n",
       "      <th></th>\n",
       "      <th>Product</th>\n",
       "      <th>Quantity</th>\n",
       "    </tr>\n",
       "  </thead>\n",
       "  <tbody>\n",
       "    <tr>\n",
       "      <th>0</th>\n",
       "      <td>P1</td>\n",
       "      <td>4</td>\n",
       "    </tr>\n",
       "    <tr>\n",
       "      <th>1</th>\n",
       "      <td>P2</td>\n",
       "      <td>6</td>\n",
       "    </tr>\n",
       "    <tr>\n",
       "      <th>2</th>\n",
       "      <td>P3</td>\n",
       "      <td>8</td>\n",
       "    </tr>\n",
       "    <tr>\n",
       "      <th>3</th>\n",
       "      <td>P4</td>\n",
       "      <td>12</td>\n",
       "    </tr>\n",
       "    <tr>\n",
       "      <th>4</th>\n",
       "      <td>P5</td>\n",
       "      <td>11</td>\n",
       "    </tr>\n",
       "  </tbody>\n",
       "</table>\n",
       "</div>"
      ],
      "text/plain": [
       "  Product  Quantity\n",
       "0      P1         4\n",
       "1      P2         6\n",
       "2      P3         8\n",
       "3      P4        12\n",
       "4      P5        11"
      ]
     },
     "execution_count": 48,
     "metadata": {
      "tags": []
     },
     "output_type": "execute_result"
    }
   ],
   "source": [
    "productQuantAgg"
   ]
  },
  {
   "cell_type": "code",
   "execution_count": null,
   "metadata": {
    "id": "mITVAxiFOm-9"
   },
   "outputs": [],
   "source": [
    "# df.drop_duplicates(subset=[\"Product\"])"
   ]
  },
  {
   "cell_type": "code",
   "execution_count": null,
   "metadata": {
    "colab": {
     "base_uri": "https://localhost:8080/",
     "height": 358
    },
    "id": "at3vjVtCO2Dl",
    "outputId": "8d1b2e2a-14b8-4202-dccc-464d06e46d47"
   },
   "outputs": [
    {
     "data": {
      "text/html": [
       "<div>\n",
       "<style scoped>\n",
       "    .dataframe tbody tr th:only-of-type {\n",
       "        vertical-align: middle;\n",
       "    }\n",
       "\n",
       "    .dataframe tbody tr th {\n",
       "        vertical-align: top;\n",
       "    }\n",
       "\n",
       "    .dataframe thead th {\n",
       "        text-align: right;\n",
       "    }\n",
       "</style>\n",
       "<table border=\"1\" class=\"dataframe\">\n",
       "  <thead>\n",
       "    <tr style=\"text-align: right;\">\n",
       "      <th></th>\n",
       "      <th>Product</th>\n",
       "      <th>Quantity</th>\n",
       "      <th>Cust</th>\n",
       "    </tr>\n",
       "  </thead>\n",
       "  <tbody>\n",
       "    <tr>\n",
       "      <th>0</th>\n",
       "      <td>P5</td>\n",
       "      <td>5</td>\n",
       "      <td>C1</td>\n",
       "    </tr>\n",
       "    <tr>\n",
       "      <th>1</th>\n",
       "      <td>P2</td>\n",
       "      <td>2</td>\n",
       "      <td>C3</td>\n",
       "    </tr>\n",
       "    <tr>\n",
       "      <th>2</th>\n",
       "      <td>P1</td>\n",
       "      <td>6</td>\n",
       "      <td>C3</td>\n",
       "    </tr>\n",
       "    <tr>\n",
       "      <th>3</th>\n",
       "      <td>P2</td>\n",
       "      <td>7</td>\n",
       "      <td>C1</td>\n",
       "    </tr>\n",
       "    <tr>\n",
       "      <th>4</th>\n",
       "      <td>P4</td>\n",
       "      <td>7</td>\n",
       "      <td>C2</td>\n",
       "    </tr>\n",
       "    <tr>\n",
       "      <th>5</th>\n",
       "      <td>P4</td>\n",
       "      <td>7</td>\n",
       "      <td>C3</td>\n",
       "    </tr>\n",
       "    <tr>\n",
       "      <th>6</th>\n",
       "      <td>P3</td>\n",
       "      <td>3</td>\n",
       "      <td>C1</td>\n",
       "    </tr>\n",
       "    <tr>\n",
       "      <th>7</th>\n",
       "      <td>P5</td>\n",
       "      <td>1</td>\n",
       "      <td>C1</td>\n",
       "    </tr>\n",
       "    <tr>\n",
       "      <th>8</th>\n",
       "      <td>P4</td>\n",
       "      <td>4</td>\n",
       "      <td>C1</td>\n",
       "    </tr>\n",
       "    <tr>\n",
       "      <th>9</th>\n",
       "      <td>P4</td>\n",
       "      <td>9</td>\n",
       "      <td>C1</td>\n",
       "    </tr>\n",
       "  </tbody>\n",
       "</table>\n",
       "</div>"
      ],
      "text/plain": [
       "  Product  Quantity Cust\n",
       "0      P5         5   C1\n",
       "1      P2         2   C3\n",
       "2      P1         6   C3\n",
       "3      P2         7   C1\n",
       "4      P4         7   C2\n",
       "5      P4         7   C3\n",
       "6      P3         3   C1\n",
       "7      P5         1   C1\n",
       "8      P4         4   C1\n",
       "9      P4         9   C1"
      ]
     },
     "execution_count": 51,
     "metadata": {
      "tags": []
     },
     "output_type": "execute_result"
    }
   ],
   "source": [
    "df = pd.DataFrame()\n",
    "df[\"Product\"] = np.random.choice([\"P1\", \"P2\", \"P3\", \"P4\", \"P5\"], 10)\n",
    "df[\"Quantity\"] = np.random.randint(1, 10, 10)\n",
    "df[\"Cust\"] = np.random.choice([\"C1\", \"C2\", \"C3\"], 10)\n",
    "df"
   ]
  },
  {
   "cell_type": "code",
   "execution_count": null,
   "metadata": {
    "colab": {
     "base_uri": "https://localhost:8080/",
     "height": 110
    },
    "id": "LvxgkhOjVlZF",
    "outputId": "e954f374-cfbb-46be-c1f2-1c46578b6f55"
   },
   "outputs": [
    {
     "data": {
      "text/html": [
       "<div>\n",
       "<style scoped>\n",
       "    .dataframe tbody tr th:only-of-type {\n",
       "        vertical-align: middle;\n",
       "    }\n",
       "\n",
       "    .dataframe tbody tr th {\n",
       "        vertical-align: top;\n",
       "    }\n",
       "\n",
       "    .dataframe thead th {\n",
       "        text-align: right;\n",
       "    }\n",
       "</style>\n",
       "<table border=\"1\" class=\"dataframe\">\n",
       "  <thead>\n",
       "    <tr style=\"text-align: right;\">\n",
       "      <th></th>\n",
       "      <th>Product</th>\n",
       "      <th>Quantity</th>\n",
       "      <th>Cust</th>\n",
       "    </tr>\n",
       "  </thead>\n",
       "  <tbody>\n",
       "    <tr>\n",
       "      <th>3</th>\n",
       "      <td>P2</td>\n",
       "      <td>7</td>\n",
       "      <td>C1</td>\n",
       "    </tr>\n",
       "    <tr>\n",
       "      <th>9</th>\n",
       "      <td>P4</td>\n",
       "      <td>9</td>\n",
       "      <td>C1</td>\n",
       "    </tr>\n",
       "  </tbody>\n",
       "</table>\n",
       "</div>"
      ],
      "text/plain": [
       "  Product  Quantity Cust\n",
       "3      P2         7   C1\n",
       "9      P4         9   C1"
      ]
     },
     "execution_count": 68,
     "metadata": {
      "tags": []
     },
     "output_type": "execute_result"
    }
   ],
   "source": [
    "df.loc[(df.Cust == \"C1\") & (df.Quantity > 5)]"
   ]
  },
  {
   "cell_type": "code",
   "execution_count": null,
   "metadata": {
    "colab": {
     "base_uri": "https://localhost:8080/",
     "height": 172
    },
    "id": "uctd4471PTop",
    "outputId": "3b074aa1-3d41-4f56-a2ae-57090333bfe7"
   },
   "outputs": [
    {
     "data": {
      "text/html": [
       "<div>\n",
       "<style scoped>\n",
       "    .dataframe tbody tr th:only-of-type {\n",
       "        vertical-align: middle;\n",
       "    }\n",
       "\n",
       "    .dataframe tbody tr th {\n",
       "        vertical-align: top;\n",
       "    }\n",
       "\n",
       "    .dataframe thead th {\n",
       "        text-align: right;\n",
       "    }\n",
       "</style>\n",
       "<table border=\"1\" class=\"dataframe\">\n",
       "  <thead>\n",
       "    <tr style=\"text-align: right;\">\n",
       "      <th></th>\n",
       "      <th>Quantity</th>\n",
       "    </tr>\n",
       "    <tr>\n",
       "      <th>Cust</th>\n",
       "      <th></th>\n",
       "    </tr>\n",
       "  </thead>\n",
       "  <tbody>\n",
       "    <tr>\n",
       "      <th>C1</th>\n",
       "      <td>29</td>\n",
       "    </tr>\n",
       "    <tr>\n",
       "      <th>C2</th>\n",
       "      <td>7</td>\n",
       "    </tr>\n",
       "    <tr>\n",
       "      <th>C3</th>\n",
       "      <td>15</td>\n",
       "    </tr>\n",
       "  </tbody>\n",
       "</table>\n",
       "</div>"
      ],
      "text/plain": [
       "      Quantity\n",
       "Cust          \n",
       "C1          29\n",
       "C2           7\n",
       "C3          15"
      ]
     },
     "execution_count": 52,
     "metadata": {
      "tags": []
     },
     "output_type": "execute_result"
    }
   ],
   "source": [
    "df.groupby([\"Cust\"]).agg({\"Quantity\": \"sum\"})"
   ]
  },
  {
   "cell_type": "code",
   "execution_count": null,
   "metadata": {
    "colab": {
     "base_uri": "https://localhost:8080/",
     "height": 327
    },
    "id": "Vi_5FtEvP6aU",
    "outputId": "b6b264d2-8820-4551-e33b-73632eb938f4"
   },
   "outputs": [
    {
     "data": {
      "text/html": [
       "<div>\n",
       "<style scoped>\n",
       "    .dataframe tbody tr th:only-of-type {\n",
       "        vertical-align: middle;\n",
       "    }\n",
       "\n",
       "    .dataframe tbody tr th {\n",
       "        vertical-align: top;\n",
       "    }\n",
       "\n",
       "    .dataframe thead th {\n",
       "        text-align: right;\n",
       "    }\n",
       "</style>\n",
       "<table border=\"1\" class=\"dataframe\">\n",
       "  <thead>\n",
       "    <tr style=\"text-align: right;\">\n",
       "      <th></th>\n",
       "      <th></th>\n",
       "      <th>Quantity</th>\n",
       "    </tr>\n",
       "    <tr>\n",
       "      <th>Cust</th>\n",
       "      <th>Product</th>\n",
       "      <th></th>\n",
       "    </tr>\n",
       "  </thead>\n",
       "  <tbody>\n",
       "    <tr>\n",
       "      <th rowspan=\"4\" valign=\"top\">C1</th>\n",
       "      <th>P2</th>\n",
       "      <td>7</td>\n",
       "    </tr>\n",
       "    <tr>\n",
       "      <th>P3</th>\n",
       "      <td>3</td>\n",
       "    </tr>\n",
       "    <tr>\n",
       "      <th>P4</th>\n",
       "      <td>13</td>\n",
       "    </tr>\n",
       "    <tr>\n",
       "      <th>P5</th>\n",
       "      <td>6</td>\n",
       "    </tr>\n",
       "    <tr>\n",
       "      <th>C2</th>\n",
       "      <th>P4</th>\n",
       "      <td>7</td>\n",
       "    </tr>\n",
       "    <tr>\n",
       "      <th rowspan=\"3\" valign=\"top\">C3</th>\n",
       "      <th>P1</th>\n",
       "      <td>6</td>\n",
       "    </tr>\n",
       "    <tr>\n",
       "      <th>P2</th>\n",
       "      <td>2</td>\n",
       "    </tr>\n",
       "    <tr>\n",
       "      <th>P4</th>\n",
       "      <td>7</td>\n",
       "    </tr>\n",
       "  </tbody>\n",
       "</table>\n",
       "</div>"
      ],
      "text/plain": [
       "              Quantity\n",
       "Cust Product          \n",
       "C1   P2              7\n",
       "     P3              3\n",
       "     P4             13\n",
       "     P5              6\n",
       "C2   P4              7\n",
       "C3   P1              6\n",
       "     P2              2\n",
       "     P4              7"
      ]
     },
     "execution_count": 55,
     "metadata": {
      "tags": []
     },
     "output_type": "execute_result"
    }
   ],
   "source": [
    "df.groupby([\"Cust\", \"Product\"]).agg({\"Quantity\": \"sum\"})"
   ]
  },
  {
   "cell_type": "code",
   "execution_count": null,
   "metadata": {
    "colab": {
     "base_uri": "https://localhost:8080/",
     "height": 327
    },
    "id": "ENKvwhZMU1kb",
    "outputId": "e1de5820-558e-49bd-cfa7-afa155abd97b"
   },
   "outputs": [
    {
     "data": {
      "text/html": [
       "<div>\n",
       "<style scoped>\n",
       "    .dataframe tbody tr th:only-of-type {\n",
       "        vertical-align: middle;\n",
       "    }\n",
       "\n",
       "    .dataframe tbody tr th {\n",
       "        vertical-align: top;\n",
       "    }\n",
       "\n",
       "    .dataframe thead th {\n",
       "        text-align: right;\n",
       "    }\n",
       "</style>\n",
       "<table border=\"1\" class=\"dataframe\">\n",
       "  <thead>\n",
       "    <tr style=\"text-align: right;\">\n",
       "      <th></th>\n",
       "      <th></th>\n",
       "      <th>Quantity</th>\n",
       "    </tr>\n",
       "    <tr>\n",
       "      <th>Product</th>\n",
       "      <th>Cust</th>\n",
       "      <th></th>\n",
       "    </tr>\n",
       "  </thead>\n",
       "  <tbody>\n",
       "    <tr>\n",
       "      <th>P1</th>\n",
       "      <th>C3</th>\n",
       "      <td>6</td>\n",
       "    </tr>\n",
       "    <tr>\n",
       "      <th rowspan=\"2\" valign=\"top\">P2</th>\n",
       "      <th>C1</th>\n",
       "      <td>7</td>\n",
       "    </tr>\n",
       "    <tr>\n",
       "      <th>C3</th>\n",
       "      <td>2</td>\n",
       "    </tr>\n",
       "    <tr>\n",
       "      <th>P3</th>\n",
       "      <th>C1</th>\n",
       "      <td>3</td>\n",
       "    </tr>\n",
       "    <tr>\n",
       "      <th rowspan=\"3\" valign=\"top\">P4</th>\n",
       "      <th>C1</th>\n",
       "      <td>13</td>\n",
       "    </tr>\n",
       "    <tr>\n",
       "      <th>C2</th>\n",
       "      <td>7</td>\n",
       "    </tr>\n",
       "    <tr>\n",
       "      <th>C3</th>\n",
       "      <td>7</td>\n",
       "    </tr>\n",
       "    <tr>\n",
       "      <th>P5</th>\n",
       "      <th>C1</th>\n",
       "      <td>6</td>\n",
       "    </tr>\n",
       "  </tbody>\n",
       "</table>\n",
       "</div>"
      ],
      "text/plain": [
       "              Quantity\n",
       "Product Cust          \n",
       "P1      C3           6\n",
       "P2      C1           7\n",
       "        C3           2\n",
       "P3      C1           3\n",
       "P4      C1          13\n",
       "        C2           7\n",
       "        C3           7\n",
       "P5      C1           6"
      ]
     },
     "execution_count": 64,
     "metadata": {
      "tags": []
     },
     "output_type": "execute_result"
    }
   ],
   "source": [
    "df.groupby([\"Product\", \"Cust\"]).agg({\"Quantity\": \"sum\"})"
   ]
  },
  {
   "cell_type": "code",
   "execution_count": null,
   "metadata": {
    "id": "N5aYuGEmVdNy"
   },
   "outputs": [],
   "source": []
  },
  {
   "cell_type": "code",
   "execution_count": null,
   "metadata": {
    "id": "ODDwrNbAQI8x"
   },
   "outputs": [],
   "source": [
    "import time"
   ]
  },
  {
   "cell_type": "code",
   "execution_count": null,
   "metadata": {
    "colab": {
     "base_uri": "https://localhost:8080/"
    },
    "id": "_iW6tsJOSUH0",
    "outputId": "d7966800-7992-4a0b-89ae-27dd52991787"
   },
   "outputs": [
    {
     "name": "stdout",
     "output_type": "stream",
     "text": [
      "Some process..\n",
      "Total time taken in process is: 5.007960319519043 sec\n"
     ]
    }
   ],
   "source": [
    "startTime = time.time()\n",
    "print(\"Some process..\")\n",
    "time.sleep(5)\n",
    "endTime = time.time()\n",
    "print(f\"Total time taken in process is: {endTime - startTime} sec\")"
   ]
  },
  {
   "cell_type": "code",
   "execution_count": null,
   "metadata": {
    "colab": {
     "base_uri": "https://localhost:8080/"
    },
    "id": "NMpiL7VtWujQ",
    "outputId": "8a6685e2-4057-4c63-8186-2ac2380db67e"
   },
   "outputs": [
    {
     "data": {
      "text/plain": [
       "1617764754.7151637"
      ]
     },
     "execution_count": 73,
     "metadata": {
      "tags": []
     },
     "output_type": "execute_result"
    }
   ],
   "source": [
    "startTime"
   ]
  },
  {
   "cell_type": "code",
   "execution_count": null,
   "metadata": {
    "id": "ND8PLw55XEsQ"
   },
   "outputs": [],
   "source": [
    "from datetime import datetime"
   ]
  },
  {
   "cell_type": "code",
   "execution_count": null,
   "metadata": {
    "colab": {
     "base_uri": "https://localhost:8080/"
    },
    "id": "gQJRmmB0XHYD",
    "outputId": "5698581d-e340-403e-e10c-cd73adf9cc98"
   },
   "outputs": [
    {
     "data": {
      "text/plain": [
       "datetime.datetime(2021, 4, 7, 3, 26, 7, 649566)"
      ]
     },
     "execution_count": 76,
     "metadata": {
      "tags": []
     },
     "output_type": "execute_result"
    }
   ],
   "source": [
    "datetime.now()"
   ]
  },
  {
   "cell_type": "code",
   "execution_count": null,
   "metadata": {
    "id": "_10UbWiQSjsV"
   },
   "outputs": [],
   "source": [
    "### Matplotlib ###"
   ]
  },
  {
   "cell_type": "code",
   "execution_count": null,
   "metadata": {
    "id": "drKY2pE6VHi6"
   },
   "outputs": [],
   "source": [
    "import matplotlib.pyplot as plt"
   ]
  },
  {
   "cell_type": "code",
   "execution_count": null,
   "metadata": {
    "id": "nls__KGsVORB"
   },
   "outputs": [],
   "source": [
    "# install any package \n",
    "! pip install <package_name>"
   ]
  }
 ],
 "metadata": {
  "colab": {
   "collapsed_sections": [],
   "name": "7th April Pandas.ipynb",
   "provenance": []
  },
  "kernelspec": {
   "display_name": "Python 3",
   "language": "python",
   "name": "python3"
  },
  "language_info": {
   "codemirror_mode": {
    "name": "ipython",
    "version": 3
   },
   "file_extension": ".py",
   "mimetype": "text/x-python",
   "name": "python",
   "nbconvert_exporter": "python",
   "pygments_lexer": "ipython3",
   "version": "3.7.3"
  }
 },
 "nbformat": 4,
 "nbformat_minor": 1
}
