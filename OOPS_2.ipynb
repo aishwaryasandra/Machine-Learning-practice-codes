{
  "nbformat": 4,
  "nbformat_minor": 0,
  "metadata": {
    "colab": {
      "name": "31st March 2021 OOPS-2.ipynb",
      "provenance": [],
      "collapsed_sections": []
    },
    "kernelspec": {
      "name": "python3",
      "display_name": "Python 3"
    },
    "language_info": {
      "name": "python"
    }
  },
  "cells": [
    {
      "cell_type": "code",
      "metadata": {
        "id": "SfACrqVtAEfv"
      },
      "source": [
        "class Calc:\n",
        "    def __init__(self, num1, num2):\n",
        "        self.num1 = num1\n",
        "        self.num2 = num2 \n",
        "    def add(self):\n",
        "        return self.num1 + self.num2 \n",
        "    def sub(self):\n",
        "        return self.num1 - self.num2\n",
        "    def mul(self):\n",
        "        return self.num1 * self.num2\n",
        "    def div(self):\n",
        "        return self.num1 / self.num2"
      ],
      "execution_count": null,
      "outputs": []
    },
    {
      "cell_type": "code",
      "metadata": {
        "id": "RWMcz9T-Atn2"
      },
      "source": [
        "obj1 = Calc(10,5)"
      ],
      "execution_count": null,
      "outputs": []
    },
    {
      "cell_type": "code",
      "metadata": {
        "colab": {
          "base_uri": "https://localhost:8080/"
        },
        "id": "Fwxf1NqVAvxc",
        "outputId": "d806793f-bb82-4818-f793-e1562b035fa6"
      },
      "source": [
        "obj1.add()"
      ],
      "execution_count": null,
      "outputs": [
        {
          "output_type": "execute_result",
          "data": {
            "text/plain": [
              "15"
            ]
          },
          "metadata": {
            "tags": []
          },
          "execution_count": 3
        }
      ]
    },
    {
      "cell_type": "code",
      "metadata": {
        "colab": {
          "base_uri": "https://localhost:8080/"
        },
        "id": "o5NLORMzBlbT",
        "outputId": "8c683219-da01-4d0e-bfd3-34eab0493125"
      },
      "source": [
        "[i for i in dir(obj1) if not i.startswith(\"__\")]"
      ],
      "execution_count": null,
      "outputs": [
        {
          "output_type": "execute_result",
          "data": {
            "text/plain": [
              "['add', 'div', 'mul', 'num1', 'num2', 'sub']"
            ]
          },
          "metadata": {
            "tags": []
          },
          "execution_count": 6
        }
      ]
    },
    {
      "cell_type": "code",
      "metadata": {
        "colab": {
          "base_uri": "https://localhost:8080/"
        },
        "id": "8sv4CLSYAzRh",
        "outputId": "4f8f27cf-0c83-4f3a-a360-1c79e9bed074"
      },
      "source": [
        "obj2 = Calc(30, 20)\n",
        "obj2.add()"
      ],
      "execution_count": null,
      "outputs": [
        {
          "output_type": "execute_result",
          "data": {
            "text/plain": [
              "50"
            ]
          },
          "metadata": {
            "tags": []
          },
          "execution_count": 4
        }
      ]
    },
    {
      "cell_type": "code",
      "metadata": {
        "colab": {
          "base_uri": "https://localhost:8080/"
        },
        "id": "tKWqME3NBRo6",
        "outputId": "b1e5b1e5-18d7-490a-afe8-5e90058fed94"
      },
      "source": [
        "[i for i in dir(obj2) if not i.startswith(\"__\")]"
      ],
      "execution_count": null,
      "outputs": [
        {
          "output_type": "execute_result",
          "data": {
            "text/plain": [
              "['add', 'div', 'mul', 'num1', 'num2', 'sub']"
            ]
          },
          "metadata": {
            "tags": []
          },
          "execution_count": 7
        }
      ]
    },
    {
      "cell_type": "code",
      "metadata": {
        "id": "H8I9t2geBzxU"
      },
      "source": [
        "class AmazonUser:\n",
        "    def __init__(self, username, email):\n",
        "        self.username = username\n",
        "        self.email = email\n",
        "        self.payment = []\n",
        "    def add_address(self, address):\n",
        "        self.address = address\n",
        "    def add_payment(self, payment):\n",
        "        self.payment.append(payment)\n",
        "    def del_payment(self, payment):\n",
        "        self.payment.remove(payment)"
      ],
      "execution_count": null,
      "outputs": []
    },
    {
      "cell_type": "code",
      "metadata": {
        "id": "2jDt-2YaDEW7"
      },
      "source": [
        "u1 = AmazonUser(\"abc\", \"abc@example.com\")"
      ],
      "execution_count": null,
      "outputs": []
    },
    {
      "cell_type": "code",
      "metadata": {
        "colab": {
          "base_uri": "https://localhost:8080/"
        },
        "id": "2ljcSpthDKH3",
        "outputId": "128afd75-f165-4d14-cd6f-1b9eb5590d75"
      },
      "source": [
        "u1.payment"
      ],
      "execution_count": null,
      "outputs": [
        {
          "output_type": "execute_result",
          "data": {
            "text/plain": [
              "[]"
            ]
          },
          "metadata": {
            "tags": []
          },
          "execution_count": 10
        }
      ]
    },
    {
      "cell_type": "code",
      "metadata": {
        "id": "GdOx5ZOEDO71"
      },
      "source": [
        "u1.add_payment(\"CC: ***4567\")"
      ],
      "execution_count": null,
      "outputs": []
    },
    {
      "cell_type": "code",
      "metadata": {
        "colab": {
          "base_uri": "https://localhost:8080/"
        },
        "id": "Odrw1P3wDTWz",
        "outputId": "7d07934a-876a-4788-babb-8db83e19ac14"
      },
      "source": [
        "u1.payment"
      ],
      "execution_count": null,
      "outputs": [
        {
          "output_type": "execute_result",
          "data": {
            "text/plain": [
              "['CC: ***4567']"
            ]
          },
          "metadata": {
            "tags": []
          },
          "execution_count": 12
        }
      ]
    },
    {
      "cell_type": "code",
      "metadata": {
        "id": "d8y5_jWuDVFY"
      },
      "source": [
        "u1.add_payment(\"NB: u1@bank.com\")"
      ],
      "execution_count": null,
      "outputs": []
    },
    {
      "cell_type": "code",
      "metadata": {
        "colab": {
          "base_uri": "https://localhost:8080/"
        },
        "id": "5D69CPOwDajI",
        "outputId": "ff098996-31de-495b-b606-596fb1542903"
      },
      "source": [
        "u1.payment"
      ],
      "execution_count": null,
      "outputs": [
        {
          "output_type": "execute_result",
          "data": {
            "text/plain": [
              "['CC: ***4567', 'NB: u1@bank.com']"
            ]
          },
          "metadata": {
            "tags": []
          },
          "execution_count": 14
        }
      ]
    },
    {
      "cell_type": "code",
      "metadata": {
        "id": "UDI7r5bWFWWb"
      },
      "source": [
        "u1.del_payment(\"CC: ***4567\")"
      ],
      "execution_count": null,
      "outputs": []
    },
    {
      "cell_type": "code",
      "metadata": {
        "colab": {
          "base_uri": "https://localhost:8080/"
        },
        "id": "PzuOIkEAFdbx",
        "outputId": "73b71030-109f-409e-c029-c5a0e80ee880"
      },
      "source": [
        "u1.payment"
      ],
      "execution_count": null,
      "outputs": [
        {
          "output_type": "execute_result",
          "data": {
            "text/plain": [
              "['NB: u1@bank.com']"
            ]
          },
          "metadata": {
            "tags": []
          },
          "execution_count": 23
        }
      ]
    },
    {
      "cell_type": "code",
      "metadata": {
        "id": "iTm3DKiODbh2"
      },
      "source": [
        "u2 = AmazonUser(\"u2\", \"u2@email.com\")"
      ],
      "execution_count": null,
      "outputs": []
    },
    {
      "cell_type": "code",
      "metadata": {
        "id": "iE9l2s5iDo6y"
      },
      "source": [
        "u2.add_payment(\"CC ***1234\")"
      ],
      "execution_count": null,
      "outputs": []
    },
    {
      "cell_type": "code",
      "metadata": {
        "colab": {
          "base_uri": "https://localhost:8080/"
        },
        "id": "zY6L6ZOoDsSm",
        "outputId": "44be2444-85ba-46fe-b530-3617b319bbfb"
      },
      "source": [
        "u2.payment"
      ],
      "execution_count": null,
      "outputs": [
        {
          "output_type": "execute_result",
          "data": {
            "text/plain": [
              "['CC ***1234']"
            ]
          },
          "metadata": {
            "tags": []
          },
          "execution_count": 17
        }
      ]
    },
    {
      "cell_type": "code",
      "metadata": {
        "id": "2_MeBGRSDtMW"
      },
      "source": [
        "# Q1. Create a class for Bank Customers \n",
        "# Input - Cust Name\n",
        "# Output - Account Number \n",
        "\n",
        "# Func: add money, withdraw money"
      ],
      "execution_count": null,
      "outputs": []
    },
    {
      "cell_type": "code",
      "metadata": {
        "colab": {
          "base_uri": "https://localhost:8080/"
        },
        "id": "go6mlsjJFLT6",
        "outputId": "670ac5f7-c38e-433f-8f7b-d30181ce6f77"
      },
      "source": [
        "import numpy as np \n",
        "np.random.randint(1000, 100000, 1)[0]"
      ],
      "execution_count": null,
      "outputs": [
        {
          "output_type": "execute_result",
          "data": {
            "text/plain": [
              "1659"
            ]
          },
          "metadata": {
            "tags": []
          },
          "execution_count": 21
        }
      ]
    },
    {
      "cell_type": "code",
      "metadata": {
        "id": "A7G7rvoWFPuf"
      },
      "source": [
        "class BankUser:\n",
        "    def __init__(self, name):\n",
        "        self.name = name\n",
        "        self.acc_num = np.random.randint(1000, 100000, 1)[0]\n",
        "        self.balance = 0\n",
        "        self.transaction = []\n",
        "\n",
        "    def credit(self, amount):\n",
        "        self.balance = self.balance + amount\n",
        "        self.transaction.append(f\"C:{amount}\")\n",
        "        \n",
        "    def debit(self, amount):\n",
        "        if amount < self.balance:\n",
        "            self.balance = self.balance - amount\n",
        "            self.transaction.append(f\"D:{amount}\")\n",
        "        else:\n",
        "            self.transaction.append(f\"(F)D:{amount}\")\n",
        "            print(\"No sufficient balance :( \")"
      ],
      "execution_count": null,
      "outputs": []
    },
    {
      "cell_type": "code",
      "metadata": {
        "id": "Ghk25iMiGhH4"
      },
      "source": [
        "b1 = BankUser(\"ABC\")"
      ],
      "execution_count": null,
      "outputs": []
    },
    {
      "cell_type": "code",
      "metadata": {
        "colab": {
          "base_uri": "https://localhost:8080/"
        },
        "id": "vu3kzlPzGuXo",
        "outputId": "404881ed-be46-4ca3-9950-73966b5cdea3"
      },
      "source": [
        "b1.acc_num"
      ],
      "execution_count": null,
      "outputs": [
        {
          "output_type": "execute_result",
          "data": {
            "text/plain": [
              "12621"
            ]
          },
          "metadata": {
            "tags": []
          },
          "execution_count": 63
        }
      ]
    },
    {
      "cell_type": "code",
      "metadata": {
        "colab": {
          "base_uri": "https://localhost:8080/",
          "height": 35
        },
        "id": "Leq4Wf_4Gyo2",
        "outputId": "582feb5d-2e40-464a-e662-ca10d75129c5"
      },
      "source": [
        "b1.name"
      ],
      "execution_count": null,
      "outputs": [
        {
          "output_type": "execute_result",
          "data": {
            "application/vnd.google.colaboratory.intrinsic+json": {
              "type": "string"
            },
            "text/plain": [
              "'ABC'"
            ]
          },
          "metadata": {
            "tags": []
          },
          "execution_count": 64
        }
      ]
    },
    {
      "cell_type": "code",
      "metadata": {
        "colab": {
          "base_uri": "https://localhost:8080/"
        },
        "id": "i0CSO4TSGz7N",
        "outputId": "1a4bb761-393d-4ede-e988-be7de5266379"
      },
      "source": [
        "b1.balance"
      ],
      "execution_count": null,
      "outputs": [
        {
          "output_type": "execute_result",
          "data": {
            "text/plain": [
              "0"
            ]
          },
          "metadata": {
            "tags": []
          },
          "execution_count": 65
        }
      ]
    },
    {
      "cell_type": "code",
      "metadata": {
        "id": "4A-gVFjOG1Y8"
      },
      "source": [
        "b1.credit(1000)"
      ],
      "execution_count": null,
      "outputs": []
    },
    {
      "cell_type": "code",
      "metadata": {
        "colab": {
          "base_uri": "https://localhost:8080/"
        },
        "id": "eXelgZeaG5RG",
        "outputId": "515bb50d-e361-4ba2-87a2-a91988865eca"
      },
      "source": [
        "b1.balance"
      ],
      "execution_count": null,
      "outputs": [
        {
          "output_type": "execute_result",
          "data": {
            "text/plain": [
              "1000"
            ]
          },
          "metadata": {
            "tags": []
          },
          "execution_count": 67
        }
      ]
    },
    {
      "cell_type": "code",
      "metadata": {
        "id": "HglWZ1CHG7TU"
      },
      "source": [
        "b1.debit(500)"
      ],
      "execution_count": null,
      "outputs": []
    },
    {
      "cell_type": "code",
      "metadata": {
        "colab": {
          "base_uri": "https://localhost:8080/"
        },
        "id": "Z-qHXlmXG9x4",
        "outputId": "0165220d-2f4c-49f3-a3bd-c60e2afbb04a"
      },
      "source": [
        "b1.balance"
      ],
      "execution_count": null,
      "outputs": [
        {
          "output_type": "execute_result",
          "data": {
            "text/plain": [
              "500"
            ]
          },
          "metadata": {
            "tags": []
          },
          "execution_count": 69
        }
      ]
    },
    {
      "cell_type": "code",
      "metadata": {
        "colab": {
          "base_uri": "https://localhost:8080/"
        },
        "id": "DEadeHSaG-yS",
        "outputId": "fbdec6e1-39b2-42d5-87b9-9f162b1b8cd1"
      },
      "source": [
        "b1.debit(3000)"
      ],
      "execution_count": null,
      "outputs": [
        {
          "output_type": "stream",
          "text": [
            "No sufficient balance :( \n"
          ],
          "name": "stdout"
        }
      ]
    },
    {
      "cell_type": "code",
      "metadata": {
        "colab": {
          "base_uri": "https://localhost:8080/"
        },
        "id": "XPzRfxnxHkn3",
        "outputId": "59de68b4-df5b-4754-d533-eafe7d086574"
      },
      "source": [
        "b1.balance"
      ],
      "execution_count": null,
      "outputs": [
        {
          "output_type": "execute_result",
          "data": {
            "text/plain": [
              "500"
            ]
          },
          "metadata": {
            "tags": []
          },
          "execution_count": 71
        }
      ]
    },
    {
      "cell_type": "code",
      "metadata": {
        "colab": {
          "base_uri": "https://localhost:8080/"
        },
        "id": "hX8cuIwnHmGq",
        "outputId": "2f724cfc-99c2-49c0-93f3-e132a3e9452c"
      },
      "source": [
        "b1.transaction"
      ],
      "execution_count": null,
      "outputs": [
        {
          "output_type": "execute_result",
          "data": {
            "text/plain": [
              "['C:1000', 'D:500', '(F)D:3000']"
            ]
          },
          "metadata": {
            "tags": []
          },
          "execution_count": 72
        }
      ]
    },
    {
      "cell_type": "code",
      "metadata": {
        "id": "oGDM-WJLJNLY"
      },
      "source": [
        "b1.debit(20)"
      ],
      "execution_count": null,
      "outputs": []
    },
    {
      "cell_type": "code",
      "metadata": {
        "colab": {
          "base_uri": "https://localhost:8080/"
        },
        "id": "mZr5373gJRr7",
        "outputId": "c86d2bfe-126f-48b6-b8f9-12b5120e6106"
      },
      "source": [
        "b1.transaction"
      ],
      "execution_count": null,
      "outputs": [
        {
          "output_type": "execute_result",
          "data": {
            "text/plain": [
              "['C:1000', 'D:500', '(F)D:3000', 'D:20']"
            ]
          },
          "metadata": {
            "tags": []
          },
          "execution_count": 74
        }
      ]
    },
    {
      "cell_type": "code",
      "metadata": {
        "id": "9qn3rY1QJTBJ"
      },
      "source": [
        "# Inheritence"
      ],
      "execution_count": null,
      "outputs": []
    },
    {
      "cell_type": "code",
      "metadata": {
        "id": "ZGWQpd3UJ-Qw"
      },
      "source": [
        "class P:\n",
        "    def __init__(self):\n",
        "        self.a = 10 \n",
        "        self.b = 20\n",
        "    def add(self):\n",
        "        return self.a + self.b"
      ],
      "execution_count": null,
      "outputs": []
    },
    {
      "cell_type": "code",
      "metadata": {
        "colab": {
          "base_uri": "https://localhost:8080/"
        },
        "id": "sQ4sTbizLQdB",
        "outputId": "840b78a0-236c-40fd-d277-b7a81a0320db"
      },
      "source": [
        "pobj = P()\n",
        "pobj.a, pobj.b, pobj.add()"
      ],
      "execution_count": null,
      "outputs": [
        {
          "output_type": "execute_result",
          "data": {
            "text/plain": [
              "(10, 20, 30)"
            ]
          },
          "metadata": {
            "tags": []
          },
          "execution_count": 78
        }
      ]
    },
    {
      "cell_type": "code",
      "metadata": {
        "id": "eNel8Yy5LYqG"
      },
      "source": [
        "# How to make a child class "
      ],
      "execution_count": null,
      "outputs": []
    },
    {
      "cell_type": "code",
      "metadata": {
        "id": "i-TgHx1ALjjB"
      },
      "source": [
        "class C(P):\n",
        "    def __init__(self):\n",
        "        super().__init__()   # super() means calling your parent class\n",
        "        self.b = 30          # Overloading: child can change the property of parent\n",
        "        self.c = 40          # child can add new property "
      ],
      "execution_count": null,
      "outputs": []
    },
    {
      "cell_type": "code",
      "metadata": {
        "id": "l23RVrJyL1bo"
      },
      "source": [
        "cobj = C()"
      ],
      "execution_count": null,
      "outputs": []
    },
    {
      "cell_type": "code",
      "metadata": {
        "colab": {
          "base_uri": "https://localhost:8080/"
        },
        "id": "ub3nUczaMGIq",
        "outputId": "3703600f-723a-4a8f-f1e6-750cf905a81e"
      },
      "source": [
        "cobj.c"
      ],
      "execution_count": null,
      "outputs": [
        {
          "output_type": "execute_result",
          "data": {
            "text/plain": [
              "40"
            ]
          },
          "metadata": {
            "tags": []
          },
          "execution_count": 95
        }
      ]
    },
    {
      "cell_type": "code",
      "metadata": {
        "colab": {
          "base_uri": "https://localhost:8080/"
        },
        "id": "hCm40J0pMIpY",
        "outputId": "43813766-7043-4761-9df6-5b23f32cca98"
      },
      "source": [
        "cobj.a"
      ],
      "execution_count": null,
      "outputs": [
        {
          "output_type": "execute_result",
          "data": {
            "text/plain": [
              "10"
            ]
          },
          "metadata": {
            "tags": []
          },
          "execution_count": 96
        }
      ]
    },
    {
      "cell_type": "code",
      "metadata": {
        "colab": {
          "base_uri": "https://localhost:8080/"
        },
        "id": "sbvuuErAMg1_",
        "outputId": "594078cf-8fc9-4e70-c46b-9af857e6578a"
      },
      "source": [
        "cobj.b"
      ],
      "execution_count": null,
      "outputs": [
        {
          "output_type": "execute_result",
          "data": {
            "text/plain": [
              "30"
            ]
          },
          "metadata": {
            "tags": []
          },
          "execution_count": 97
        }
      ]
    },
    {
      "cell_type": "code",
      "metadata": {
        "colab": {
          "base_uri": "https://localhost:8080/"
        },
        "id": "DwSUPSceMiJM",
        "outputId": "06b292de-997f-412c-bb61-425f03c73c01"
      },
      "source": [
        "cobj.add()"
      ],
      "execution_count": null,
      "outputs": [
        {
          "output_type": "execute_result",
          "data": {
            "text/plain": [
              "40"
            ]
          },
          "metadata": {
            "tags": []
          },
          "execution_count": 98
        }
      ]
    },
    {
      "cell_type": "code",
      "metadata": {
        "id": "y-2OdI2mMjlt"
      },
      "source": [
        "class BankUser:\n",
        "    def __init__(self, username):\n",
        "        self.username = username\n",
        "        self.minimum_balance = 500\n",
        "        self.balance = 0 \n",
        "    def credit(self, amount):\n",
        "        self.balance = self.balance + amount\n",
        "        return self.balance\n",
        "    def debit(self, amount):\n",
        "        if self.balance > self.minimum_balance + amount:\n",
        "            self.balance = self.balance - amount\n",
        "            return self.balance\n",
        "        else:\n",
        "            print(\"Something went wrong!\")"
      ],
      "execution_count": null,
      "outputs": []
    },
    {
      "cell_type": "code",
      "metadata": {
        "id": "dD2GTl1sOaC1"
      },
      "source": [
        "b1 = BankUser(\"ABC\")"
      ],
      "execution_count": null,
      "outputs": []
    },
    {
      "cell_type": "code",
      "metadata": {
        "colab": {
          "base_uri": "https://localhost:8080/"
        },
        "id": "6mgTIEscOgwD",
        "outputId": "33940b3e-2f16-43f5-c03c-9e13c629ca2d"
      },
      "source": [
        "b1.credit(1000)"
      ],
      "execution_count": null,
      "outputs": [
        {
          "output_type": "execute_result",
          "data": {
            "text/plain": [
              "1000"
            ]
          },
          "metadata": {
            "tags": []
          },
          "execution_count": 105
        }
      ]
    },
    {
      "cell_type": "code",
      "metadata": {
        "colab": {
          "base_uri": "https://localhost:8080/"
        },
        "id": "ktF7EoreOiUu",
        "outputId": "11a05e24-f3fa-41ea-96b9-4441950e240a"
      },
      "source": [
        "b1.debit(700)"
      ],
      "execution_count": null,
      "outputs": [
        {
          "output_type": "stream",
          "text": [
            "Something went wrong!\n"
          ],
          "name": "stdout"
        }
      ]
    },
    {
      "cell_type": "code",
      "metadata": {
        "colab": {
          "base_uri": "https://localhost:8080/"
        },
        "id": "NDIHbXtHOk-K",
        "outputId": "91d7a74a-4ea1-42a9-da3b-a8b69ba1f3b7"
      },
      "source": [
        "b1.debit(200)"
      ],
      "execution_count": null,
      "outputs": [
        {
          "output_type": "execute_result",
          "data": {
            "text/plain": [
              "800"
            ]
          },
          "metadata": {
            "tags": []
          },
          "execution_count": 107
        }
      ]
    },
    {
      "cell_type": "code",
      "metadata": {
        "id": "IuaMmzf2PJAR"
      },
      "source": [
        "class PBankUser(BankUser):\n",
        "    def __init__(self, username):\n",
        "        super().__init__(username)\n",
        "        self.minimum_balance = 100"
      ],
      "execution_count": null,
      "outputs": []
    },
    {
      "cell_type": "code",
      "metadata": {
        "id": "gYo1-QUAPmWA"
      },
      "source": [
        "pb1 = PBankUser(\"XYZ\")"
      ],
      "execution_count": null,
      "outputs": []
    },
    {
      "cell_type": "code",
      "metadata": {
        "colab": {
          "base_uri": "https://localhost:8080/"
        },
        "id": "8zOqe4pMPtMY",
        "outputId": "685bb129-f28d-49a9-be6b-2c4bcfb2e338"
      },
      "source": [
        "pb1.minimum_balance"
      ],
      "execution_count": null,
      "outputs": [
        {
          "output_type": "execute_result",
          "data": {
            "text/plain": [
              "100"
            ]
          },
          "metadata": {
            "tags": []
          },
          "execution_count": 110
        }
      ]
    },
    {
      "cell_type": "code",
      "metadata": {
        "colab": {
          "base_uri": "https://localhost:8080/"
        },
        "id": "7IG1q3avPwNO",
        "outputId": "d19c7a73-52eb-4da8-fb8c-43fb9c14a498"
      },
      "source": [
        "pb1.credit(1000)"
      ],
      "execution_count": null,
      "outputs": [
        {
          "output_type": "execute_result",
          "data": {
            "text/plain": [
              "1000"
            ]
          },
          "metadata": {
            "tags": []
          },
          "execution_count": 111
        }
      ]
    },
    {
      "cell_type": "code",
      "metadata": {
        "colab": {
          "base_uri": "https://localhost:8080/"
        },
        "id": "sZKwKEOPPy6o",
        "outputId": "92d9eec2-0732-41e2-d44d-560178314395"
      },
      "source": [
        "pb1.debit(700)"
      ],
      "execution_count": null,
      "outputs": [
        {
          "output_type": "execute_result",
          "data": {
            "text/plain": [
              "300"
            ]
          },
          "metadata": {
            "tags": []
          },
          "execution_count": 112
        }
      ]
    },
    {
      "cell_type": "code",
      "metadata": {
        "colab": {
          "base_uri": "https://localhost:8080/"
        },
        "id": "33WzC26cP2NU",
        "outputId": "a144e77f-c82d-435d-b158-6c11becfdd64"
      },
      "source": [
        "5 + 5 "
      ],
      "execution_count": null,
      "outputs": [
        {
          "output_type": "execute_result",
          "data": {
            "text/plain": [
              "10"
            ]
          },
          "metadata": {
            "tags": []
          },
          "execution_count": 113
        }
      ]
    },
    {
      "cell_type": "code",
      "metadata": {
        "colab": {
          "base_uri": "https://localhost:8080/",
          "height": 35
        },
        "id": "C_YpYGrOQ6w3",
        "outputId": "3515f060-1cf2-4fa7-fc3c-0b553d8fb750"
      },
      "source": [
        "\"a\" + \"b\""
      ],
      "execution_count": null,
      "outputs": [
        {
          "output_type": "execute_result",
          "data": {
            "application/vnd.google.colaboratory.intrinsic+json": {
              "type": "string"
            },
            "text/plain": [
              "'ab'"
            ]
          },
          "metadata": {
            "tags": []
          },
          "execution_count": 114
        }
      ]
    },
    {
      "cell_type": "code",
      "metadata": {
        "id": "kx2SaCiYQ77Q"
      },
      "source": [
        "# The \"+\" sign here is overloading, it produces the arithmetic sum of int and concatenation of str"
      ],
      "execution_count": null,
      "outputs": []
    },
    {
      "cell_type": "code",
      "metadata": {
        "id": "r3P5E-aTRNdN"
      },
      "source": [
        "class A:\n",
        "    def __init__(self):\n",
        "        self.a = 10 \n",
        "class B(A):\n",
        "    def __init__(self):\n",
        "        super().__init__()\n",
        "        self.b = 20\n",
        "class C(B):\n",
        "    def __init__(self):\n",
        "        super().__init__()\n",
        "        self.c = 30"
      ],
      "execution_count": null,
      "outputs": []
    },
    {
      "cell_type": "code",
      "metadata": {
        "id": "uYwPGfMfRa-F"
      },
      "source": [
        "c = C()"
      ],
      "execution_count": null,
      "outputs": []
    },
    {
      "cell_type": "code",
      "metadata": {
        "colab": {
          "base_uri": "https://localhost:8080/"
        },
        "id": "oHeYrLw9RmJa",
        "outputId": "b22e3faf-4cf5-48b8-86ce-0fcaa46df475"
      },
      "source": [
        "c.a"
      ],
      "execution_count": null,
      "outputs": [
        {
          "output_type": "execute_result",
          "data": {
            "text/plain": [
              "10"
            ]
          },
          "metadata": {
            "tags": []
          },
          "execution_count": 119
        }
      ]
    },
    {
      "cell_type": "code",
      "metadata": {
        "colab": {
          "base_uri": "https://localhost:8080/"
        },
        "id": "gj2swIK1RsXG",
        "outputId": "d9ea79dd-5b8a-45a5-fe83-98d48ef28fc4"
      },
      "source": [
        "C.mro()  # method resolution order"
      ],
      "execution_count": null,
      "outputs": [
        {
          "output_type": "execute_result",
          "data": {
            "text/plain": [
              "[__main__.C, __main__.B, __main__.A, object]"
            ]
          },
          "metadata": {
            "tags": []
          },
          "execution_count": 120
        }
      ]
    },
    {
      "cell_type": "code",
      "metadata": {
        "id": "hLpHnhKMR65l"
      },
      "source": [
        "class A:\n",
        "    def __init__(self):\n",
        "        self.a = 10\n",
        "        self.b = 20  \n",
        "    def add(self):\n",
        "        return self.a + self.b\n",
        "    def someFunc(self):\n",
        "        self.__pfunc()\n",
        "        return \"We have used private\"\n",
        "\n",
        "    def __pfunc(self):           # start your func name with \"__\" and it becomes private\n",
        "        print(\"Nothing\")"
      ],
      "execution_count": null,
      "outputs": []
    },
    {
      "cell_type": "code",
      "metadata": {
        "id": "231NsAW5S8FM"
      },
      "source": [
        "a = A()"
      ],
      "execution_count": null,
      "outputs": []
    },
    {
      "cell_type": "code",
      "metadata": {
        "colab": {
          "base_uri": "https://localhost:8080/",
          "height": 52
        },
        "id": "RnYrYpyuTx-F",
        "outputId": "89c32e0e-07cc-4007-baaa-3055b3163714"
      },
      "source": [
        "a.someFunc()"
      ],
      "execution_count": null,
      "outputs": [
        {
          "output_type": "stream",
          "text": [
            "Nothing\n"
          ],
          "name": "stdout"
        },
        {
          "output_type": "execute_result",
          "data": {
            "application/vnd.google.colaboratory.intrinsic+json": {
              "type": "string"
            },
            "text/plain": [
              "'We have used private'"
            ]
          },
          "metadata": {
            "tags": []
          },
          "execution_count": 130
        }
      ]
    },
    {
      "cell_type": "code",
      "metadata": {
        "id": "gixKFrlqUKCu"
      },
      "source": [
        ""
      ],
      "execution_count": null,
      "outputs": []
    },
    {
      "cell_type": "code",
      "metadata": {
        "id": "Yd9211ZyTCpB"
      },
      "source": [
        "class B(A):\n",
        "    def __init__(self):\n",
        "        super().__init__()\n",
        "        self.c = 30\n",
        "    def sub(self):\n",
        "        return self.a - self.b"
      ],
      "execution_count": null,
      "outputs": []
    },
    {
      "cell_type": "code",
      "metadata": {
        "id": "7AyE3FR5TUaT"
      },
      "source": [
        "b = B()"
      ],
      "execution_count": null,
      "outputs": []
    },
    {
      "cell_type": "code",
      "metadata": {
        "colab": {
          "base_uri": "https://localhost:8080/",
          "height": 52
        },
        "id": "XfUkWnzNTVPk",
        "outputId": "5dfd8db7-6a67-404d-eac6-ae2c76a9ba33"
      },
      "source": [
        "b.someFunc()"
      ],
      "execution_count": null,
      "outputs": [
        {
          "output_type": "stream",
          "text": [
            "Nothing\n"
          ],
          "name": "stdout"
        },
        {
          "output_type": "execute_result",
          "data": {
            "application/vnd.google.colaboratory.intrinsic+json": {
              "type": "string"
            },
            "text/plain": [
              "'We have used private'"
            ]
          },
          "metadata": {
            "tags": []
          },
          "execution_count": 133
        }
      ]
    },
    {
      "cell_type": "code",
      "metadata": {
        "id": "yyn1wCZQUFVb"
      },
      "source": [
        ""
      ],
      "execution_count": null,
      "outputs": []
    },
    {
      "cell_type": "code",
      "metadata": {
        "id": "iEyBwBUXUX8J"
      },
      "source": [
        ""
      ],
      "execution_count": null,
      "outputs": []
    }
  ]
}